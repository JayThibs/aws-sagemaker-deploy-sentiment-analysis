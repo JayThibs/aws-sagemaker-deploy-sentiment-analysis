{
 "cells": [
  {
   "cell_type": "markdown",
   "id": "d1c4824b",
   "metadata": {},
   "source": [
    "# Sentiment Analysis App with Huggingface and PyTorch Lightning\n",
    "\n",
    "In this notebook, we will reimplement the work done in the SageMaker Project notebook, but with a language model obtained from Huggingface and using PyTorch Lightning to train the model. We are doing this because the model trained in the SageMaker Notebook used an LSTM, which is quite outdated for language models.\n",
    "\n",
    "## Setup"
   ]
  },
  {
   "cell_type": "code",
   "execution_count": null,
   "id": "651ffb26",
   "metadata": {},
   "outputs": [],
   "source": [
    "!pip install -q transformers git+https://github.com/huggingface/datasets.git --upgrade\n",
    "!pip install -q torch \n",
    "!pip install pytorch-lightning --quiet\n",
    "!pip install wandb --quiet"
   ]
  },
  {
   "cell_type": "code",
   "execution_count": null,
   "id": "aa1c906e",
   "metadata": {},
   "outputs": [],
   "source": []
  }
 ],
 "metadata": {
  "kernelspec": {
   "display_name": "conda_pytorch_p36",
   "language": "python",
   "name": "conda_pytorch_p36"
  },
  "language_info": {
   "codemirror_mode": {
    "name": "ipython",
    "version": 3
   },
   "file_extension": ".py",
   "mimetype": "text/x-python",
   "name": "python",
   "nbconvert_exporter": "python",
   "pygments_lexer": "ipython3",
   "version": "3.6.13"
  }
 },
 "nbformat": 4,
 "nbformat_minor": 5
}
