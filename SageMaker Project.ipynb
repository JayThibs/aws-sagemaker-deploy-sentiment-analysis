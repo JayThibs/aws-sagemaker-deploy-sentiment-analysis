{
 "cells": [
  {
   "cell_type": "markdown",
   "metadata": {},
   "source": [
    "# Creating a Sentiment Analysis Web App\n",
    "## Using PyTorch and SageMaker\n",
    "\n",
    "_Deep Learning Nanodegree Program | Deployment_\n",
    "\n",
    "---\n",
    "\n",
    "Now that we have a basic understanding of how SageMaker works we will try to use it to construct a complete project from end to end. Our goal will be to have a simple web page which a user can use to enter a movie review. The web page will then send the review off to our deployed model which will predict the sentiment of the entered review.\n",
    "\n",
    "## Instructions\n",
    "\n",
    "Some template code has already been provided for you, and you will need to implement additional functionality to successfully complete this notebook. You will not need to modify the included code beyond what is requested. Sections that begin with '**TODO**' in the header indicate that you need to complete or implement some portion within them. Instructions will be provided for each section and the specifics of the implementation are marked in the code block with a `# TODO: ...` comment. Please be sure to read the instructions carefully!\n",
    "\n",
    "In addition to implementing code, there will be questions for you to answer which relate to the task and your implementation. Each section where you will answer a question is preceded by a '**Question:**' header. Carefully read each question and provide your answer below the '**Answer:**' header by editing the Markdown cell.\n",
    "\n",
    "> **Note**: Code and Markdown cells can be executed using the **Shift+Enter** keyboard shortcut. In addition, a cell can be edited by typically clicking it (double-click for Markdown cells) or by pressing **Enter** while it is highlighted.\n",
    "\n",
    "## General Outline\n",
    "\n",
    "Recall the general outline for SageMaker projects using a notebook instance.\n",
    "\n",
    "1. Download or otherwise retrieve the data.\n",
    "2. Process / Prepare the data.\n",
    "3. Upload the processed data to S3.\n",
    "4. Train a chosen model.\n",
    "5. Test the trained model (typically using a batch transform job).\n",
    "6. Deploy the trained model.\n",
    "7. Use the deployed model.\n",
    "\n",
    "For this project, you will be following the steps in the general outline with some modifications. \n",
    "\n",
    "First, you will not be testing the model in its own step. You will still be testing the model, however, you will do it by deploying your model and then using the deployed model by sending the test data to it. One of the reasons for doing this is so that you can make sure that your deployed model is working correctly before moving forward.\n",
    "\n",
    "In addition, you will deploy and use your trained model a second time. In the second iteration you will customize the way that your trained model is deployed by including some of your own code. In addition, your newly deployed model will be used in the sentiment analysis web app."
   ]
  },
  {
   "cell_type": "code",
   "execution_count": 1,
   "metadata": {},
   "outputs": [],
   "source": [
    "# I am commenting out this cell as I'd rather use SageMaker 2.\n",
    "\n",
    "# # Make sure that we use SageMaker 1.x\n",
    "# !pip install sagemaker==1.72.0"
   ]
  },
  {
   "cell_type": "code",
   "execution_count": 78,
   "metadata": {},
   "outputs": [
    {
     "data": {
      "text/plain": [
       "'2.41.0'"
      ]
     },
     "execution_count": 78,
     "metadata": {},
     "output_type": "execute_result"
    }
   ],
   "source": [
    "import sagemaker\n",
    "sagemaker.__version__"
   ]
  },
  {
   "cell_type": "code",
   "execution_count": 79,
   "metadata": {},
   "outputs": [],
   "source": [
    "# imports to load pickled files\n",
    "import pickle\n",
    "import os"
   ]
  },
  {
   "cell_type": "markdown",
   "metadata": {},
   "source": [
    "## Step 1: Downloading the data\n",
    "\n",
    "As in the XGBoost in SageMaker notebook, we will be using the [IMDb dataset](http://ai.stanford.edu/~amaas/data/sentiment/)\n",
    "\n",
    "> Maas, Andrew L., et al. [Learning Word Vectors for Sentiment Analysis](http://ai.stanford.edu/~amaas/data/sentiment/). In _Proceedings of the 49th Annual Meeting of the Association for Computational Linguistics: Human Language Technologies_. Association for Computational Linguistics, 2011."
   ]
  },
  {
   "cell_type": "code",
   "execution_count": 53,
   "metadata": {},
   "outputs": [
    {
     "name": "stdout",
     "output_type": "stream",
     "text": [
      "mkdir: cannot create directory ‘../data’: File exists\n",
      "--2021-06-16 15:29:45--  http://ai.stanford.edu/~amaas/data/sentiment/aclImdb_v1.tar.gz\n",
      "Resolving ai.stanford.edu (ai.stanford.edu)... 171.64.68.10\n",
      "Connecting to ai.stanford.edu (ai.stanford.edu)|171.64.68.10|:80... connected.\n",
      "HTTP request sent, awaiting response... 200 OK\n",
      "Length: 84125825 (80M) [application/x-gzip]\n",
      "Saving to: ‘../data/aclImdb_v1.tar.gz’\n",
      "\n",
      "../data/aclImdb_v1. 100%[===================>]  80.23M  23.4MB/s    in 4.6s    \n",
      "\n",
      "2021-06-16 15:29:50 (17.4 MB/s) - ‘../data/aclImdb_v1.tar.gz’ saved [84125825/84125825]\n",
      "\n"
     ]
    }
   ],
   "source": [
    "%mkdir ../data\n",
    "!wget -O ../data/aclImdb_v1.tar.gz http://ai.stanford.edu/~amaas/data/sentiment/aclImdb_v1.tar.gz\n",
    "!tar -zxf ../data/aclImdb_v1.tar.gz -C ../data"
   ]
  },
  {
   "cell_type": "markdown",
   "metadata": {},
   "source": [
    "## Step 2: Preparing and Processing the data\n",
    "\n",
    "Also, as in the XGBoost notebook, we will be doing some initial data processing. The first few steps are the same as in the XGBoost example. To begin with, we will read in each of the reviews and combine them into a single input structure. Then, we will split the dataset into a training set and a testing set."
   ]
  },
  {
   "cell_type": "code",
   "execution_count": 54,
   "metadata": {},
   "outputs": [],
   "source": [
    "import os\n",
    "import glob\n",
    "\n",
    "def read_imdb_data(data_dir='../data/aclImdb'):\n",
    "    data = {}\n",
    "    labels = {}\n",
    "    \n",
    "    for data_type in ['train', 'test']:\n",
    "        data[data_type] = {}\n",
    "        labels[data_type] = {}\n",
    "        \n",
    "        for sentiment in ['pos', 'neg']:\n",
    "            data[data_type][sentiment] = []\n",
    "            labels[data_type][sentiment] = []\n",
    "            \n",
    "            path = os.path.join(data_dir, data_type, sentiment, '*.txt')\n",
    "            files = glob.glob(path)\n",
    "            \n",
    "            for f in files:\n",
    "                with open(f) as review:\n",
    "                    data[data_type][sentiment].append(review.read())\n",
    "                    # Here we represent a positive review by '1' and a negative review by '0'\n",
    "                    labels[data_type][sentiment].append(1 if sentiment == 'pos' else 0)\n",
    "                    \n",
    "            assert len(data[data_type][sentiment]) == len(labels[data_type][sentiment]), \\\n",
    "                    \"{}/{} data size does not match labels size\".format(data_type, sentiment)\n",
    "                \n",
    "    return data, labels"
   ]
  },
  {
   "cell_type": "code",
   "execution_count": 55,
   "metadata": {},
   "outputs": [
    {
     "name": "stdout",
     "output_type": "stream",
     "text": [
      "IMDB reviews: train = 12500 pos / 12500 neg, test = 12500 pos / 12500 neg\n"
     ]
    }
   ],
   "source": [
    "data, labels = read_imdb_data()\n",
    "print(\"IMDB reviews: train = {} pos / {} neg, test = {} pos / {} neg\".format(\n",
    "            len(data['train']['pos']), len(data['train']['neg']),\n",
    "            len(data['test']['pos']), len(data['test']['neg'])))"
   ]
  },
  {
   "cell_type": "code",
   "execution_count": 56,
   "metadata": {},
   "outputs": [
    {
     "name": "stdout",
     "output_type": "stream",
     "text": [
      "1\n",
      "This tender beautifully crafted production delved deep down bitter sweet into my being. The irreverent pupils, the life embittered bus driver and the teachers personalities present a subliminal debate as the story unveils. The adult characters all seem familiar, my teachers, my bus driver, each one of their opinions so plausible and well known. When a key incident happens on the bus we are sent on a circuit of viewpoints. All the time the babble of teenage energy is only just kept under control by the organisers of the trip. Mr Harvey is experiencing much pain throughout . He reminds me of war damaged teachers I did not understand when I was an irreverent pupil.<br /><br />Rhidian Brook and the producers deserve much acclaim for this well shaped British film. The acting unblemished, the scenes appropriate, it should be widely available yet does not seem to have been given the right opportunity.\n"
     ]
    }
   ],
   "source": [
    "# Let's look at one positive review\n",
    "\n",
    "print(labels['train']['pos'][1])\n",
    "print(data['train']['pos'][1])"
   ]
  },
  {
   "cell_type": "markdown",
   "metadata": {},
   "source": [
    "Now that we've read the raw training and testing data from the downloaded dataset, we will combine the positive and negative reviews and shuffle the resulting records."
   ]
  },
  {
   "cell_type": "code",
   "execution_count": 57,
   "metadata": {},
   "outputs": [],
   "source": [
    "from sklearn.utils import shuffle\n",
    "\n",
    "def prepare_imdb_data(data, labels):\n",
    "    \"\"\"Prepare training and test sets from IMDb movie reviews.\"\"\"\n",
    "    \n",
    "    #Combine positive and negative reviews and labels\n",
    "    data_train = data['train']['pos'] + data['train']['neg']\n",
    "    data_test = data['test']['pos'] + data['test']['neg']\n",
    "    labels_train = labels['train']['pos'] + labels['train']['neg']\n",
    "    labels_test = labels['test']['pos'] + labels['test']['neg']\n",
    "    \n",
    "    #Shuffle reviews and corresponding labels within training and test sets\n",
    "    data_train, labels_train = shuffle(data_train, labels_train)\n",
    "    data_test, labels_test = shuffle(data_test, labels_test)\n",
    "    \n",
    "    # Return a unified training data, test data, training labels, test labets\n",
    "    return data_train, data_test, labels_train, labels_test"
   ]
  },
  {
   "cell_type": "code",
   "execution_count": 58,
   "metadata": {},
   "outputs": [
    {
     "name": "stdout",
     "output_type": "stream",
     "text": [
      "IMDb reviews (combined): train = 25000, test = 25000\n"
     ]
    }
   ],
   "source": [
    "train_X, test_X, train_y, test_y = prepare_imdb_data(data, labels)\n",
    "print(\"IMDb reviews (combined): train = {}, test = {}\".format(len(train_X), len(test_X)))"
   ]
  },
  {
   "cell_type": "markdown",
   "metadata": {},
   "source": [
    "Now that we have our training and testing sets unified and prepared, we should do a quick check and see an example of the data our model will be trained on. This is generally a good idea as it allows you to see how each of the further processing steps affects the reviews and it also ensures that the data has been loaded correctly."
   ]
  },
  {
   "cell_type": "code",
   "execution_count": 59,
   "metadata": {},
   "outputs": [
    {
     "name": "stdout",
     "output_type": "stream",
     "text": [
      "With a title like that, it's above and beyond my comprehension how this movie just did NOT appeal to me. Granted, there's a few decently sleazy moments and a little gore, but the way in which the movie was shot and the overall storyline just struck me as an idiotic and lazy attempt at profuse \"shock\" tactics... The inconsistent plot starts with a guy raping and murdering a woman stranded at the side of the road. He and his abetting brother are imprisoned up until the brother breaks out and arranges to meet his girlfriend out in the woods. He ends up forcing her into a house where they screw and he later shows her a collection of kidnapped guys in the basement. The heavily drugged captives consist of her old boyfriend who raped her, a \"grabby\" neighbor, and her sexually abrasive boss. He explains to her that he is going to kill them all. She winds up killing HIM and then turning her focus towards the men (or pigs) whom she tortures and kills, herself... Most of the violence and humiliation has to do with sh!t eating and genitalia destroying - all of which are far from disturbing and essentially mild. The best scene is a graphic broom handle masturbation followed by some painful man-rape... Surely, \"I Spit on Your Corpse, I P!ss on Your Grave\" was intended as an unofficial sequel to \"I Spit on Your Grave\" - based on, mainly the title, and a reference the main character gives - suggesting her mother was Camille Keaton. I personally consider that to be a wildly blasphemous assertion! This movie is a boring, amateurish mess that strives for shocks but failed miserably...\n",
      "0\n"
     ]
    }
   ],
   "source": [
    "print(train_X[100])\n",
    "print(train_y[100])"
   ]
  },
  {
   "cell_type": "markdown",
   "metadata": {},
   "source": [
    "The first step in processing the reviews is to make sure that any html tags that appear should be removed. In addition we wish to tokenize our input, that way words such as *entertained* and *entertaining* are considered the same with regard to sentiment analysis."
   ]
  },
  {
   "cell_type": "code",
   "execution_count": 60,
   "metadata": {},
   "outputs": [],
   "source": [
    "import nltk\n",
    "from nltk.corpus import stopwords\n",
    "from nltk.stem.porter import *\n",
    "\n",
    "import re\n",
    "from bs4 import BeautifulSoup\n",
    "\n",
    "def review_to_words(review):\n",
    "    nltk.download(\"stopwords\", quiet=True)\n",
    "    stemmer = PorterStemmer()\n",
    "    \n",
    "    text = BeautifulSoup(review, \"html.parser\").get_text() # Remove HTML tags\n",
    "    text = re.sub(r\"[^a-zA-Z0-9]\", \" \", text.lower()) # Convert to lower case\n",
    "    words = text.split() # Split string into words\n",
    "    words = [w for w in words if w not in stopwords.words(\"english\")] # Remove stopwords\n",
    "    words = [stemmer.stem(w) for w in words] # stem\n",
    "    \n",
    "    return words"
   ]
  },
  {
   "cell_type": "markdown",
   "metadata": {},
   "source": [
    "The `review_to_words` method defined above uses `BeautifulSoup` to remove any html tags that appear and uses the `nltk` package to tokenize the reviews. As a check to ensure we know how everything is working, try applying `review_to_words` to one of the reviews in the training set."
   ]
  },
  {
   "cell_type": "code",
   "execution_count": 61,
   "metadata": {},
   "outputs": [
    {
     "data": {
      "text/plain": [
       "['man',\n",
       " 'castl',\n",
       " 'set',\n",
       " 'one',\n",
       " 'jerri',\n",
       " 'built',\n",
       " 'settlement',\n",
       " 'vacant',\n",
       " 'land',\n",
       " 'park',\n",
       " 'time',\n",
       " 'call',\n",
       " 'hoovervil',\n",
       " 'name',\n",
       " 'unfortun',\n",
       " '31st',\n",
       " 'presid',\n",
       " 'got',\n",
       " 'stuck',\n",
       " 'great',\n",
       " 'depress',\n",
       " 'occur',\n",
       " 'administr',\n",
       " 'proposit',\n",
       " 'film',\n",
       " 'man',\n",
       " 'home',\n",
       " 'still',\n",
       " 'castl',\n",
       " 'even',\n",
       " 'shack',\n",
       " 'hoovervil',\n",
       " 'spencer',\n",
       " 'traci',\n",
       " 'shack',\n",
       " 'truth',\n",
       " 'told',\n",
       " 'guy',\n",
       " 'even',\n",
       " 'good',\n",
       " 'time',\n",
       " 'would',\n",
       " 'work',\n",
       " 'much',\n",
       " 'part',\n",
       " 'typic',\n",
       " 'traci',\n",
       " 'cast',\n",
       " 'priest',\n",
       " 'san',\n",
       " 'francisco',\n",
       " 'start',\n",
       " 'slew',\n",
       " 'classic',\n",
       " 'role',\n",
       " 'play',\n",
       " 'tough',\n",
       " 'good',\n",
       " 'natur',\n",
       " 'mug',\n",
       " 'take',\n",
       " 'loretta',\n",
       " 'young',\n",
       " 'one',\n",
       " 'thing',\n",
       " 'man',\n",
       " 'castl',\n",
       " 'show',\n",
       " 'effect',\n",
       " 'depress',\n",
       " 'women',\n",
       " 'well',\n",
       " 'men',\n",
       " 'women',\n",
       " 'addit',\n",
       " 'strain',\n",
       " 'put',\n",
       " 'men',\n",
       " 'troubl',\n",
       " 'find',\n",
       " 'work',\n",
       " 'women',\n",
       " 'twice',\n",
       " 'hard',\n",
       " 'sexual',\n",
       " 'harass',\n",
       " 'resort',\n",
       " 'prostitut',\n",
       " 'squar',\n",
       " 'meal',\n",
       " 'spenc',\n",
       " 'take',\n",
       " 'loretta',\n",
       " 'young',\n",
       " 'face',\n",
       " 'kind',\n",
       " 'problem',\n",
       " 'make',\n",
       " 'demand',\n",
       " 'castl',\n",
       " 'pretti',\n",
       " 'soon',\n",
       " 'though',\n",
       " 'love',\n",
       " 'though',\n",
       " 'traci',\n",
       " 'kind',\n",
       " 'settl',\n",
       " 'love',\n",
       " 'scene',\n",
       " 'extra',\n",
       " 'zing',\n",
       " 'traci',\n",
       " 'young',\n",
       " 'torrid',\n",
       " 'affair',\n",
       " 'shoot',\n",
       " 'man',\n",
       " 'castl',\n",
       " 'cathol',\n",
       " 'marri',\n",
       " 'day',\n",
       " 'insuper',\n",
       " 'barrier',\n",
       " 'marriag',\n",
       " 'traci',\n",
       " 'young',\n",
       " 'took',\n",
       " 'cathol',\n",
       " 'faith',\n",
       " 'quit',\n",
       " 'serious',\n",
       " 'also',\n",
       " 'cast',\n",
       " 'walter',\n",
       " 'connolli',\n",
       " 'kind',\n",
       " 'father',\n",
       " 'figur',\n",
       " 'whole',\n",
       " 'camp',\n",
       " 'marjori',\n",
       " 'rambeau',\n",
       " 'pitfal',\n",
       " 'young',\n",
       " 'might',\n",
       " 'encount',\n",
       " 'tri',\n",
       " 'steer',\n",
       " 'clear',\n",
       " 'arthur',\n",
       " 'hohl',\n",
       " 'realli',\n",
       " 'loathsom',\n",
       " 'creep',\n",
       " 'eye',\n",
       " 'young',\n",
       " 'well',\n",
       " 'hohl',\n",
       " 'bring',\n",
       " 'plot',\n",
       " 'man',\n",
       " 'castl',\n",
       " 'climax',\n",
       " 'scheme',\n",
       " 'man',\n",
       " 'castl',\n",
       " 'grim',\n",
       " 'look',\n",
       " 'great',\n",
       " 'depress',\n",
       " 'usual',\n",
       " 'movi',\n",
       " 'escapist',\n",
       " 'fare',\n",
       " 'tri',\n",
       " 'avoid',\n",
       " 'kind',\n",
       " 'realiti',\n",
       " 'entertain']"
      ]
     },
     "execution_count": 61,
     "metadata": {},
     "output_type": "execute_result"
    }
   ],
   "source": [
    "# TODO: Apply review_to_words to a review (train_X[100] or any other review)\n",
    "review_to_words(train_X[10])"
   ]
  },
  {
   "cell_type": "markdown",
   "metadata": {},
   "source": [
    "**Question:** Above we mentioned that `review_to_words` method removes html formatting and allows us to tokenize the words found in a review, for example, converting *entertained* and *entertaining* into *entertain* so that they are treated as though they are the same word. What else, if anything, does this method do to the input?"
   ]
  },
  {
   "cell_type": "markdown",
   "metadata": {},
   "source": [
    "**Answer:**\n",
    "\n",
    "Besides removing html formatting and stemming the tokenized words, `review_to_words` also:\n",
    "\n",
    "1. Removes all non alpha-numerical characters from the review string. It also makes the text lowercase.\n",
    "\n",
    "       text = re.sub(r\"[^a-zA-Z0-9]\", \" \", text.lower()) # Convert to lower case\n",
    "\n",
    "2. Removes stopwords, which are words like \"is\", and \"a\".\n",
    "\n",
    "       words = [w for w in words if w not in stopwords.words(\"english\")] # Remove stopwords"
   ]
  },
  {
   "cell_type": "markdown",
   "metadata": {},
   "source": [
    "The method below applies the `review_to_words` method to each of the reviews in the training and testing datasets. In addition it caches the results. This is because performing this processing step can take a long time. This way if you are unable to complete the notebook in the current session, you can come back without needing to process the data a second time."
   ]
  },
  {
   "cell_type": "code",
   "execution_count": 62,
   "metadata": {},
   "outputs": [],
   "source": [
    "import pickle\n",
    "\n",
    "cache_dir = os.path.join(\"../cache\", \"sentiment_analysis\")  # where to store cache files\n",
    "os.makedirs(cache_dir, exist_ok=True)  # ensure cache directory exists\n",
    "\n",
    "def preprocess_data(data_train, data_test, labels_train, labels_test,\n",
    "                    cache_dir=cache_dir, cache_file=\"preprocessed_data.pkl\"):\n",
    "    \"\"\"Convert each review to words; read from cache if available.\"\"\"\n",
    "\n",
    "    # If cache_file is not None, try to read from it first\n",
    "    cache_data = None\n",
    "    if cache_file is not None:\n",
    "        try:\n",
    "            with open(os.path.join(cache_dir, cache_file), \"rb\") as f:\n",
    "                cache_data = pickle.load(f)\n",
    "            print(\"Read preprocessed data from cache file:\", cache_file)\n",
    "        except:\n",
    "            pass  # unable to read from cache, but that's okay\n",
    "    \n",
    "    # If cache is missing, then do the heavy lifting\n",
    "    if cache_data is None:\n",
    "        # Preprocess training and test data to obtain words for each review\n",
    "        #words_train = list(map(review_to_words, data_train))\n",
    "        #words_test = list(map(review_to_words, data_test))\n",
    "        words_train = [review_to_words(review) for review in data_train]\n",
    "        words_test = [review_to_words(review) for review in data_test]\n",
    "        \n",
    "        # Write to cache file for future runs\n",
    "        if cache_file is not None:\n",
    "            cache_data = dict(words_train=words_train, words_test=words_test,\n",
    "                              labels_train=labels_train, labels_test=labels_test)\n",
    "            with open(os.path.join(cache_dir, cache_file), \"wb\") as f:\n",
    "                pickle.dump(cache_data, f)\n",
    "            print(\"Wrote preprocessed data to cache file:\", cache_file)\n",
    "    else:\n",
    "        # Unpack data loaded from cache file\n",
    "        words_train, words_test, labels_train, labels_test = (cache_data['words_train'],\n",
    "                cache_data['words_test'], cache_data['labels_train'], cache_data['labels_test'])\n",
    "    \n",
    "    return words_train, words_test, labels_train, labels_test"
   ]
  },
  {
   "cell_type": "code",
   "execution_count": 63,
   "metadata": {},
   "outputs": [
    {
     "name": "stdout",
     "output_type": "stream",
     "text": [
      "Read preprocessed data from cache file: preprocessed_data.pkl\n"
     ]
    }
   ],
   "source": [
    "# Preprocess data\n",
    "train_X, test_X, train_y, test_y = preprocess_data(train_X, test_X, train_y, test_y)"
   ]
  },
  {
   "cell_type": "markdown",
   "metadata": {},
   "source": [
    "## Transform the data\n",
    "\n",
    "In the XGBoost notebook we transformed the data from its word representation to a bag-of-words feature representation. For the model we are going to construct in this notebook we will construct a feature representation which is very similar. To start, we will represent each word as an integer. Of course, some of the words that appear in the reviews occur very infrequently and so likely don't contain much information for the purposes of sentiment analysis. The way we will deal with this problem is that we will fix the size of our working vocabulary and we will only include the words that appear most frequently. We will then combine all of the infrequent words into a single category and, in our case, we will label it as `1`.\n",
    "\n",
    "Since we will be using a recurrent neural network, it will be convenient if the length of each review is the same. To do this, we will fix a size for our reviews and then pad short reviews with the category 'no word' (which we will label `0`) and truncate long reviews."
   ]
  },
  {
   "cell_type": "code",
   "execution_count": 64,
   "metadata": {},
   "outputs": [
    {
     "data": {
      "text/plain": [
       "'Walking home after the film, I was humming the familiar waltz music that Natalia and Alexandre were dancing to. I\\'ve heard that before - where? Ah, from Kubrick\\'s \"Eyes Wide Shut\" (track 2), \\'got it just as I arrived at the door. It\\'s \"Waltz No. 2 from Jazz Suite No. 2\" composed by Dimitri Shostakovich, performed here by The City of Prague Philharmonic Orchestra. Yes, I went and picked up the soundtrack from Tower\\'s. What a treat! The film score by Alexandre Desplat was fulfilling - there are fifteen tracks besides two tracks of the delightful waltz. It\\'s not often these days we get a soundtrack entirely dedicated to a comprehensive film score. Reminds me of favorite scores by Maurice Jarre, Ennio Morricone (beginning notes of track 6 have traces of \"Nuovo cinema Paradiso\"), Georges Delerue, and John Barry. There are subtle nuances of strains and notes from the strings, celeste, piano, and harp. <br /><br />Emily Watson and John Turturro delivered a credibly consuming paired performance. The love story, their intimate connection, is very much between Alexandre and Natalia - his childlike yet tormenting inner world, and her generous and bold understanding of him - a relationship alone to them both. Director Marleen Gorris of \"Antonia\\'s Line\" (1996 Academy Award\\'s Best Foreign Language Film from the Netherlands) gave us a quietly sensitive film - not without its unsettling human conflicts, intrigues, obsessions, family strives, lovingness and respect. The front-end subject is the mind-game and mathematical logic of chess. Beneath it can be a mild tearjerker of a drama set in the late 1920\\'s. Cinematography captures the serene beauty of Lake Como in northern Italy near the Swiss border.<br /><br />I highly recommend the soundtrack if you don\\'t feel like going to the movies. Alexandre Desplat\\'s lyrical film score of \"The Luzhin Defence\" is complete.'"
      ]
     },
     "execution_count": 64,
     "metadata": {},
     "output_type": "execute_result"
    }
   ],
   "source": [
    "data['train']['pos'][0]"
   ]
  },
  {
   "cell_type": "markdown",
   "metadata": {},
   "source": [
    "### (TODO) Create a word dictionary\n",
    "\n",
    "To begin with, we need to construct a way to map words that appear in the reviews to integers. Here we fix the size of our vocabulary (including the 'no word' and 'infrequent' categories) to be `5000` but you may wish to change this to see how it affects the model.\n",
    "\n",
    "> **TODO:** Complete the implementation for the `build_dict()` method below. Note that even though the vocab_size is set to `5000`, we only want to construct a mapping for the most frequently appearing `4998` words. This is because we want to reserve the special labels `0` for 'no word' and `1` for 'infrequent word'."
   ]
  },
  {
   "cell_type": "code",
   "execution_count": 73,
   "metadata": {},
   "outputs": [],
   "source": [
    "import numpy as np\n",
    "\n",
    "def build_dict(data, vocab_size = 5000):\n",
    "    \"\"\"Construct and return a dictionary mapping each of the most frequently appearing words to a unique integer.\"\"\"\n",
    "    \n",
    "    # TODO: Determine how often each word appears in `data`. Note that `data` is a list of sentences and that a\n",
    "    #       sentence is a list of words.\n",
    "    \n",
    "    word_count = {} # A dict storing the words that appear in the reviews along with how often they occur\n",
    "    \n",
    "    for text in data:\n",
    "        for word in text:\n",
    "            if word in word_count:\n",
    "                word_count[word] += 1\n",
    "            else:\n",
    "                word_count[word] = 1\n",
    "    \n",
    "#     # TODO: Sort the words found in `data` so that sorted_words[0] is the most frequently appearing word and\n",
    "#     #       sorted_words[-1] is the least frequently appearing word.\n",
    "    \n",
    "#     sorted_words = dict(sorted(word_count.items(),\n",
    "#                            key=lambda item: item[1],\n",
    "#                            reverse=False))\n",
    "    \n",
    "    sorted_words = None\n",
    "    sorted_words = [item[0] for item in sorted(word_count.items(), key=lambda x: x[1], reverse=True)]\n",
    "    \n",
    "    word_dict = {} # This is what we are building, a dictionary that translates words into integers\n",
    "    for idx, word in enumerate(sorted_words[:vocab_size - 2]): # The -2 is so that we save room for the 'no word'\n",
    "        word_dict[word] = idx + 2                              # 'infrequent' labels\n",
    "        \n",
    "    return word_dict"
   ]
  },
  {
   "cell_type": "code",
   "execution_count": 74,
   "metadata": {},
   "outputs": [],
   "source": [
    "word_dict = build_dict(train_X)"
   ]
  },
  {
   "cell_type": "markdown",
   "metadata": {},
   "source": [
    "**Question:** What are the five most frequently appearing (tokenized) words in the training set? Does it makes sense that these words appear frequently in the training set?"
   ]
  },
  {
   "cell_type": "markdown",
   "metadata": {},
   "source": [
    "**Answer:**"
   ]
  },
  {
   "cell_type": "code",
   "execution_count": 80,
   "metadata": {},
   "outputs": [
    {
     "data": {
      "text/plain": [
       "dict_items([('movi', 2), ('film', 3), ('one', 4), ('like', 5), ('time', 6), ('good', 7), ('make', 8), ('charact', 9), ('get', 10), ('see', 11), ('watch', 12), ('stori', 13), ('even', 14), ('would', 15), ('realli', 16), ('well', 17), ('scene', 18), ('look', 19), ('show', 20), ('much', 21), ('end', 22), ('peopl', 23), ('bad', 24), ('go', 25), ('great', 26), ('also', 27), ('first', 28), ('love', 29), ('think', 30), ('way', 31), ('act', 32), ('play', 33), ('made', 34), ('thing', 35), ('could', 36), ('know', 37), ('say', 38), ('seem', 39), ('work', 40), ('plot', 41), ('two', 42), ('actor', 43), ('year', 44), ('come', 45), ('mani', 46), ('seen', 47), ('take', 48), ('want', 49), ('life', 50), ('never', 51), ('littl', 52), ('best', 53), ('tri', 54), ('man', 55), ('ever', 56), ('give', 57), ('better', 58), ('still', 59), ('perform', 60), ('find', 61), ('feel', 62), ('part', 63), ('back', 64), ('use', 65), ('someth', 66), ('director', 67), ('actual', 68), ('interest', 69), ('lot', 70), ('real', 71), ('old', 72), ('cast', 73), ('though', 74), ('live', 75), ('star', 76), ('enjoy', 77), ('guy', 78), ('anoth', 79), ('new', 80), ('role', 81), ('noth', 82), ('10', 83), ('funni', 84), ('music', 85), ('point', 86), ('start', 87), ('set', 88), ('girl', 89), ('origin', 90), ('day', 91), ('world', 92), ('everi', 93), ('believ', 94), ('turn', 95), ('quit', 96), ('direct', 97), ('us', 98), ('thought', 99), ('fact', 100), ('minut', 101), ('horror', 102), ('kill', 103), ('action', 104), ('comedi', 105), ('pretti', 106), ('young', 107), ('wonder', 108), ('happen', 109), ('around', 110), ('got', 111), ('effect', 112), ('right', 113), ('long', 114), ('howev', 115), ('big', 116), ('line', 117), ('famili', 118), ('enough', 119), ('seri', 120), ('may', 121), ('need', 122), ('fan', 123), ('bit', 124), ('script', 125), ('beauti', 126), ('person', 127), ('becom', 128), ('without', 129), ('must', 130), ('alway', 131), ('friend', 132), ('tell', 133), ('reason', 134), ('saw', 135), ('last', 136), ('final', 137), ('kid', 138), ('almost', 139), ('put', 140), ('least', 141), ('sure', 142), ('done', 143), ('whole', 144), ('place', 145), ('complet', 146), ('kind', 147), ('differ', 148), ('expect', 149), ('shot', 150), ('far', 151), ('mean', 152), ('anyth', 153), ('book', 154), ('laugh', 155), ('might', 156), ('name', 157), ('sinc', 158), ('begin', 159), ('2', 160), ('probabl', 161), ('woman', 162), ('help', 163), ('entertain', 164), ('let', 165), ('screen', 166), ('call', 167), ('tv', 168), ('moment', 169), ('away', 170), ('read', 171), ('yet', 172), ('rather', 173), ('worst', 174), ('run', 175), ('fun', 176), ('lead', 177), ('hard', 178), ('audienc', 179), ('idea', 180), ('anyon', 181), ('episod', 182), ('american', 183), ('found', 184), ('appear', 185), ('bore', 186), ('especi', 187), ('although', 188), ('hope', 189), ('keep', 190), ('cours', 191), ('anim', 192), ('job', 193), ('goe', 194), ('move', 195), ('sens', 196), ('version', 197), ('dvd', 198), ('war', 199), ('money', 200), ('someon', 201), ('mind', 202), ('mayb', 203), ('problem', 204), ('true', 205), ('hous', 206), ('everyth', 207), ('nice', 208), ('second', 209), ('rate', 210), ('three', 211), ('night', 212), ('follow', 213), ('face', 214), ('recommend', 215), ('product', 216), ('main', 217), ('worth', 218), ('leav', 219), ('human', 220), ('special', 221), ('excel', 222), ('togeth', 223), ('wast', 224), ('sound', 225), ('everyon', 226), ('john', 227), ('hand', 228), ('1', 229), ('father', 230), ('later', 231), ('eye', 232), ('said', 233), ('view', 234), ('instead', 235), ('review', 236), ('boy', 237), ('high', 238), ('hour', 239), ('miss', 240), ('talk', 241), ('classic', 242), ('wife', 243), ('understand', 244), ('left', 245), ('care', 246), ('black', 247), ('death', 248), ('open', 249), ('murder', 250), ('write', 251), ('half', 252), ('head', 253), ('rememb', 254), ('chang', 255), ('viewer', 256), ('fight', 257), ('gener', 258), ('surpris', 259), ('includ', 260), ('short', 261), ('die', 262), ('fall', 263), ('less', 264), ('els', 265), ('entir', 266), ('piec', 267), ('involv', 268), ('pictur', 269), ('simpli', 270), ('home', 271), ('power', 272), ('top', 273), ('total', 274), ('usual', 275), ('budget', 276), ('attempt', 277), ('suppos', 278), ('releas', 279), ('hollywood', 280), ('terribl', 281), ('song', 282), ('men', 283), ('possibl', 284), ('featur', 285), ('portray', 286), ('disappoint', 287), ('poor', 288), ('3', 289), ('coupl', 290), ('stupid', 291), ('camera', 292), ('dead', 293), ('wrong', 294), ('produc', 295), ('low', 296), ('either', 297), ('video', 298), ('aw', 299), ('definit', 300), ('except', 301), ('rest', 302), ('given', 303), ('absolut', 304), ('women', 305), ('lack', 306), ('word', 307), ('writer', 308), ('titl', 309), ('talent', 310), ('decid', 311), ('full', 312), ('perfect', 313), ('along', 314), ('style', 315), ('close', 316), ('truli', 317), ('school', 318), ('save', 319), ('emot', 320), ('age', 321), ('sex', 322), ('next', 323), ('bring', 324), ('mr', 325), ('case', 326), ('killer', 327), ('heart', 328), ('comment', 329), ('sort', 330), ('creat', 331), ('perhap', 332), ('came', 333), ('brother', 334), ('sever', 335), ('joke', 336), ('art', 337), ('dialogu', 338), ('game', 339), ('small', 340), ('base', 341), ('flick', 342), ('written', 343), ('sequenc', 344), ('meet', 345), ('earli', 346), ('often', 347), ('other', 348), ('mother', 349), ('develop', 350), ('humor', 351), ('actress', 352), ('consid', 353), ('dark', 354), ('guess', 355), ('amaz', 356), ('unfortun', 357), ('lost', 358), ('light', 359), ('exampl', 360), ('cinema', 361), ('drama', 362), ('ye', 363), ('white', 364), ('experi', 365), ('imagin', 366), ('mention', 367), ('stop', 368), ('natur', 369), ('forc', 370), ('manag', 371), ('felt', 372), ('cut', 373), ('present', 374), ('children', 375), ('fail', 376), ('son', 377), ('car', 378), ('support', 379), ('qualiti', 380), ('ask', 381), ('hit', 382), ('side', 383), ('voic', 384), ('extrem', 385), ('impress', 386), ('wors', 387), ('evil', 388), ('stand', 389), ('went', 390), ('certainli', 391), ('basic', 392), ('oh', 393), ('overal', 394), ('favorit', 395), ('horribl', 396), ('mysteri', 397), ('number', 398), ('type', 399), ('danc', 400), ('wait', 401), ('hero', 402), ('5', 403), ('alreadi', 404), ('learn', 405), ('matter', 406), ('4', 407), ('michael', 408), ('genr', 409), ('fine', 410), ('despit', 411), ('throughout', 412), ('walk', 413), ('success', 414), ('histori', 415), ('question', 416), ('zombi', 417), ('town', 418), ('realiz', 419), ('relationship', 420), ('past', 421), ('child', 422), ('daughter', 423), ('late', 424), ('b', 425), ('wish', 426), ('hate', 427), ('credit', 428), ('event', 429), ('theme', 430), ('touch', 431), ('citi', 432), ('today', 433), ('sometim', 434), ('behind', 435), ('god', 436), ('twist', 437), ('sit', 438), ('stay', 439), ('deal', 440), ('annoy', 441), ('abl', 442), ('rent', 443), ('pleas', 444), ('edit', 445), ('blood', 446), ('deserv', 447), ('comic', 448), ('anyway', 449), ('appar', 450), ('soon', 451), ('gave', 452), ('etc', 453), ('level', 454), ('slow', 455), ('chanc', 456), ('score', 457), ('bodi', 458), ('brilliant', 459), ('incred', 460), ('figur', 461), ('situat', 462), ('self', 463), ('major', 464), ('stuff', 465), ('decent', 466), ('element', 467), ('dream', 468), ('return', 469), ('obvious', 470), ('order', 471), ('continu', 472), ('pace', 473), ('ridicul', 474), ('happi', 475), ('group', 476), ('highli', 477), ('add', 478), ('thank', 479), ('ladi', 480), ('novel', 481), ('speak', 482), ('pain', 483), ('career', 484), ('shoot', 485), ('strang', 486), ('heard', 487), ('sad', 488), ('husband', 489), ('polic', 490), ('import', 491), ('break', 492), ('took', 493), ('cannot', 494), ('strong', 495), ('robert', 496), ('predict', 497), ('violenc', 498), ('hilari', 499), ('recent', 500), ('countri', 501), ('known', 502), ('particularli', 503), ('pick', 504), ('documentari', 505), ('season', 506), ('critic', 507), ('jame', 508), ('compar', 509), ('obviou', 510), ('alon', 511), ('told', 512), ('state', 513), ('rock', 514), ('visual', 515), ('exist', 516), ('theater', 517), ('offer', 518), ('opinion', 519), ('gore', 520), ('crap', 521), ('hold', 522), ('result', 523), ('hear', 524), ('realiti', 525), ('room', 526), ('effort', 527), ('clich', 528), ('thriller', 529), ('caus', 530), ('serious', 531), ('explain', 532), ('sequel', 533), ('king', 534), ('local', 535), ('ago', 536), ('hell', 537), ('none', 538), ('note', 539), ('allow', 540), ('sister', 541), ('david', 542), ('simpl', 543), ('femal', 544), ('deliv', 545), ('ok', 546), ('convinc', 547), ('class', 548), ('check', 549), ('suspens', 550), ('win', 551), ('buy', 552), ('oscar', 553), ('huge', 554), ('valu', 555), ('sexual', 556), ('scari', 557), ('cool', 558), ('excit', 559), ('similar', 560), ('apart', 561), ('provid', 562), ('exactli', 563), ('avoid', 564), ('shown', 565), ('seriou', 566), ('english', 567), ('taken', 568), ('whose', 569), ('cinematographi', 570), ('shock', 571), ('polit', 572), ('spoiler', 573), ('offic', 574), ('across', 575), ('middl', 576), ('pass', 577), ('street', 578), ('messag', 579), ('silli', 580), ('charm', 581), ('somewhat', 582), ('modern', 583), ('confus', 584), ('filmmak', 585), ('form', 586), ('tale', 587), ('singl', 588), ('jack', 589), ('mostli', 590), ('william', 591), ('carri', 592), ('attent', 593), ('sing', 594), ('five', 595), ('subject', 596), ('prove', 597), ('richard', 598), ('stage', 599), ('team', 600), ('unlik', 601), ('cop', 602), ('georg', 603), ('monster', 604), ('televis', 605), ('earth', 606), ('cover', 607), ('villain', 608), ('pay', 609), ('marri', 610), ('toward', 611), ('build', 612), ('parent', 613), ('pull', 614), ('due', 615), ('respect', 616), ('fill', 617), ('four', 618), ('dialog', 619), ('remind', 620), ('futur', 621), ('typic', 622), ('weak', 623), ('7', 624), ('cheap', 625), ('intellig', 626), ('atmospher', 627), ('british', 628), ('clearli', 629), ('80', 630), ('non', 631), ('dog', 632), ('paul', 633), ('8', 634), ('artist', 635), ('fast', 636), ('knew', 637), ('crime', 638), ('easili', 639), ('escap', 640), ('adult', 641), ('doubt', 642), ('detail', 643), ('date', 644), ('fire', 645), ('member', 646), ('romant', 647), ('drive', 648), ('gun', 649), ('straight', 650), ('beyond', 651), ('fit', 652), ('attack', 653), ('imag', 654), ('upon', 655), ('posit', 656), ('whether', 657), ('peter', 658), ('fantast', 659), ('captur', 660), ('aspect', 661), ('appreci', 662), ('ten', 663), ('plan', 664), ('discov', 665), ('remain', 666), ('near', 667), ('period', 668), ('air', 669), ('realist', 670), ('mark', 671), ('red', 672), ('dull', 673), ('adapt', 674), ('within', 675), ('spend', 676), ('lose', 677), ('color', 678), ('materi', 679), ('chase', 680), ('mari', 681), ('storylin', 682), ('forget', 683), ('bunch', 684), ('clear', 685), ('lee', 686), ('victim', 687), ('nearli', 688), ('box', 689), ('york', 690), ('inspir', 691), ('match', 692), ('finish', 693), ('mess', 694), ('standard', 695), ('easi', 696), ('truth', 697), ('busi', 698), ('suffer', 699), ('space', 700), ('dramat', 701), ('bill', 702), ('western', 703), ('e', 704), ('list', 705), ('battl', 706), ('notic', 707), ('de', 708), ('french', 709), ('ad', 710), ('9', 711), ('tom', 712), ('larg', 713), ('among', 714), ('eventu', 715), ('accept', 716), ('train', 717), ('agre', 718), ('soundtrack', 719), ('spirit', 720), ('third', 721), ('teenag', 722), ('soldier', 723), ('adventur', 724), ('suggest', 725), ('drug', 726), ('famou', 727), ('sorri', 728), ('babi', 729), ('cri', 730), ('normal', 731), ('troubl', 732), ('ultim', 733), ('contain', 734), ('certain', 735), ('cultur', 736), ('romanc', 737), ('rare', 738), ('lame', 739), ('somehow', 740), ('mix', 741), ('disney', 742), ('gone', 743), ('cartoon', 744), ('student', 745), ('fear', 746), ('reveal', 747), ('kept', 748), ('suck', 749), ('attract', 750), ('appeal', 751), ('premis', 752), ('secret', 753), ('design', 754), ('greatest', 755), ('shame', 756), ('throw', 757), ('scare', 758), ('copi', 759), ('wit', 760), ('admit', 761), ('america', 762), ('relat', 763), ('particular', 764), ('brought', 765), ('screenplay', 766), ('whatev', 767), ('pure', 768), ('70', 769), ('harri', 770), ('averag', 771), ('master', 772), ('describ', 773), ('male', 774), ('treat', 775), ('20', 776), ('issu', 777), ('fantasi', 778), ('warn', 779), ('inde', 780), ('background', 781), ('forward', 782), ('free', 783), ('project', 784), ('memor', 785), ('japanes', 786), ('poorli', 787), ('award', 788), ('locat', 789), ('amus', 790), ('potenti', 791), ('struggl', 792), ('weird', 793), ('magic', 794), ('societi', 795), ('okay', 796), ('accent', 797), ('doctor', 798), ('imdb', 799), ('water', 800), ('hot', 801), ('alien', 802), ('dr', 803), ('express', 804), ('30', 805), ('odd', 806), ('crazi', 807), ('choic', 808), ('studio', 809), ('fiction', 810), ('becam', 811), ('control', 812), ('masterpiec', 813), ('difficult', 814), ('fli', 815), ('joe', 816), ('scream', 817), ('costum', 818), ('lover', 819), ('refer', 820), ('uniqu', 821), ('remak', 822), ('girlfriend', 823), ('vampir', 824), ('prison', 825), ('execut', 826), ('wear', 827), ('jump', 828), ('unless', 829), ('wood', 830), ('creepi', 831), ('cheesi', 832), ('superb', 833), ('otherwis', 834), ('parti', 835), ('roll', 836), ('ghost', 837), ('mad', 838), ('public', 839), ('depict', 840), ('badli', 841), ('week', 842), ('moral', 843), ('earlier', 844), ('jane', 845), ('dumb', 846), ('fi', 847), ('flaw', 848), ('grow', 849), ('sci', 850), ('deep', 851), ('maker', 852), ('cat', 853), ('footag', 854), ('connect', 855), ('older', 856), ('bother', 857), ('plenti', 858), ('outsid', 859), ('stick', 860), ('gay', 861), ('catch', 862), ('plu', 863), ('co', 864), ('popular', 865), ('equal', 866), ('social', 867), ('quickli', 868), ('disturb', 869), ('perfectli', 870), ('dress', 871), ('era', 872), ('90', 873), ('mistak', 874), ('lie', 875), ('ride', 876), ('previou', 877), ('combin', 878), ('band', 879), ('concept', 880), ('surviv', 881), ('rich', 882), ('answer', 883), ('front', 884), ('sweet', 885), ('christma', 886), ('insid', 887), ('eat', 888), ('concern', 889), ('bare', 890), ('beat', 891), ('listen', 892), ('ben', 893), ('c', 894), ('term', 895), ('serv', 896), ('german', 897), ('meant', 898), ('la', 899), ('hardli', 900), ('stereotyp', 901), ('law', 902), ('innoc', 903), ('desper', 904), ('memori', 905), ('promis', 906), ('intent', 907), ('cute', 908), ('inform', 909), ('variou', 910), ('steal', 911), ('brain', 912), ('post', 913), ('tone', 914), ('island', 915), ('amount', 916), ('nuditi', 917), ('track', 918), ('compani', 919), ('claim', 920), ('store', 921), ('hair', 922), ('flat', 923), ('50', 924), ('univers', 925), ('land', 926), ('kick', 927), ('scott', 928), ('fairli', 929), ('danger', 930), ('player', 931), ('plain', 932), ('crew', 933), ('step', 934), ('toni', 935), ('share', 936), ('tast', 937), ('centuri', 938), ('achiev', 939), ('engag', 940), ('travel', 941), ('cold', 942), ('record', 943), ('suit', 944), ('rip', 945), ('sadli', 946), ('manner', 947), ('wrote', 948), ('spot', 949), ('tension', 950), ('intens', 951), ('fascin', 952), ('familiar', 953), ('burn', 954), ('depth', 955), ('remark', 956), ('histor', 957), ('destroy', 958), ('sleep', 959), ('purpos', 960), ('languag', 961), ('ignor', 962), ('ruin', 963), ('delight', 964), ('unbeliev', 965), ('italian', 966), ('collect', 967), ('abil', 968), ('soul', 969), ('clever', 970), ('detect', 971), ('violent', 972), ('rape', 973), ('reach', 974), ('door', 975), ('trash', 976), ('scienc', 977), ('liter', 978), ('reveng', 979), ('caught', 980), ('commun', 981), ('creatur', 982), ('trip', 983), ('approach', 984), ('intrigu', 985), ('fashion', 986), ('introduc', 987), ('skill', 988), ('paint', 989), ('complex', 990), ('channel', 991), ('camp', 992), ('christian', 993), ('extra', 994), ('hole', 995), ('limit', 996), ('mental', 997), ('immedi', 998), ('ann', 999), ('mere', 1000), ('million', 1001), ('6', 1002), ('comput', 1003), ('slightli', 1004), ('conclus', 1005), ('slasher', 1006), ('suddenli', 1007), ('imposs', 1008), ('neither', 1009), ('crimin', 1010), ('teen', 1011), ('physic', 1012), ('spent', 1013), ('nation', 1014), ('respons', 1015), ('planet', 1016), ('fake', 1017), ('receiv', 1018), ('blue', 1019), ('sick', 1020), ('bizarr', 1021), ('embarrass', 1022), ('indian', 1023), ('ring', 1024), ('15', 1025), ('pop', 1026), ('drop', 1027), ('drag', 1028), ('haunt', 1029), ('suspect', 1030), ('pointless', 1031), ('edg', 1032), ('search', 1033), ('handl', 1034), ('common', 1035), ('biggest', 1036), ('hurt', 1037), ('arriv', 1038), ('faith', 1039), ('technic', 1040), ('angel', 1041), ('genuin', 1042), ('dad', 1043), ('solid', 1044), ('f', 1045), ('awesom', 1046), ('van', 1047), ('focu', 1048), ('former', 1049), ('colleg', 1050), ('count', 1051), ('tear', 1052), ('heavi', 1053), ('wall', 1054), ('rais', 1055), ('laughabl', 1056), ('visit', 1057), ('younger', 1058), ('fair', 1059), ('sign', 1060), ('excus', 1061), ('cult', 1062), ('key', 1063), ('tough', 1064), ('motion', 1065), ('desir', 1066), ('super', 1067), ('stun', 1068), ('addit', 1069), ('exploit', 1070), ('cloth', 1071), ('smith', 1072), ('tortur', 1073), ('race', 1074), ('davi', 1075), ('author', 1076), ('cross', 1077), ('jim', 1078), ('consist', 1079), ('focus', 1080), ('minor', 1081), ('compel', 1082), ('commit', 1083), ('pathet', 1084), ('chemistri', 1085), ('park', 1086), ('frank', 1087), ('obsess', 1088), ('tradit', 1089), ('grade', 1090), ('asid', 1091), ('60', 1092), ('brutal', 1093), ('steve', 1094), ('somewher', 1095), ('rule', 1096), ('depress', 1097), ('grant', 1098), ('opportun', 1099), ('u', 1100), ('explor', 1101), ('honest', 1102), ('besid', 1103), ('dub', 1104), ('anti', 1105), ('trailer', 1106), ('intend', 1107), ('bar', 1108), ('regard', 1109), ('scientist', 1110), ('west', 1111), ('longer', 1112), ('judg', 1113), ('decad', 1114), ('silent', 1115), ('creativ', 1116), ('armi', 1117), ('wild', 1118), ('stewart', 1119), ('south', 1120), ('g', 1121), ('draw', 1122), ('road', 1123), ('govern', 1124), ('ex', 1125), ('boss', 1126), ('practic', 1127), ('surprisingli', 1128), ('festiv', 1129), ('motiv', 1130), ('club', 1131), ('gang', 1132), ('green', 1133), ('page', 1134), ('london', 1135), ('redeem', 1136), ('display', 1137), ('aliv', 1138), ('machin', 1139), ('idiot', 1140), ('militari', 1141), ('repeat', 1142), ('thrill', 1143), ('yeah', 1144), ('nobodi', 1145), ('folk', 1146), ('100', 1147), ('40', 1148), ('garbag', 1149), ('journey', 1150), ('ground', 1151), ('tire', 1152), ('smile', 1153), ('mood', 1154), ('bought', 1155), ('sam', 1156), ('stone', 1157), ('cost', 1158), ('noir', 1159), ('mouth', 1160), ('agent', 1161), ('terrif', 1162), ('requir', 1163), ('utterli', 1164), ('area', 1165), ('sexi', 1166), ('honestli', 1167), ('report', 1168), ('geniu', 1169), ('humour', 1170), ('enter', 1171), ('investig', 1172), ('glad', 1173), ('serial', 1174), ('narr', 1175), ('occasion', 1176), ('passion', 1177), ('climax', 1178), ('marriag', 1179), ('studi', 1180), ('industri', 1181), ('center', 1182), ('nowher', 1183), ('ship', 1184), ('charli', 1185), ('demon', 1186), ('loos', 1187), ('bear', 1188), ('hors', 1189), ('wow', 1190), ('hang', 1191), ('graphic', 1192), ('admir', 1193), ('giant', 1194), ('send', 1195), ('damn', 1196), ('loud', 1197), ('rel', 1198), ('profession', 1199), ('nake', 1200), ('subtl', 1201), ('blow', 1202), ('bottom', 1203), ('batman', 1204), ('insult', 1205), ('r', 1206), ('doubl', 1207), ('kelli', 1208), ('boyfriend', 1209), ('initi', 1210), ('frame', 1211), ('opera', 1212), ('gem', 1213), ('church', 1214), ('challeng', 1215), ('cinemat', 1216), ('drawn', 1217), ('affect', 1218), ('j', 1219), ('nightmar', 1220), ('seek', 1221), ('evid', 1222), ('l', 1223), ('fulli', 1224), ('essenti', 1225), ('arm', 1226), ('conflict', 1227), ('grace', 1228), ('christoph', 1229), ('wind', 1230), ('henri', 1231), ('narrat', 1232), ('assum', 1233), ('witch', 1234), ('push', 1235), ('hunt', 1236), ('chri', 1237), ('wise', 1238), ('repres', 1239), ('month', 1240), ('nomin', 1241), ('affair', 1242), ('sceneri', 1243), ('hide', 1244), ('avail', 1245), ('smart', 1246), ('thu', 1247), ('justic', 1248), ('bond', 1249), ('interview', 1250), ('flashback', 1251), ('outstand', 1252), ('constantli', 1253), ('satisfi', 1254), ('presenc', 1255), ('central', 1256), ('bed', 1257), ('sell', 1258), ('iron', 1259), ('content', 1260), ('everybodi', 1261), ('gag', 1262), ('slowli', 1263), ('hotel', 1264), ('hire', 1265), ('system', 1266), ('hey', 1267), ('thrown', 1268), ('charl', 1269), ('individu', 1270), ('adam', 1271), ('allen', 1272), ('mediocr', 1273), ('jone', 1274), ('billi', 1275), ('lesson', 1276), ('ray', 1277), ('cameo', 1278), ('photographi', 1279), ('pari', 1280), ('fellow', 1281), ('strike', 1282), ('rise', 1283), ('brief', 1284), ('absurd', 1285), ('independ', 1286), ('neg', 1287), ('phone', 1288), ('impact', 1289), ('born', 1290), ('model', 1291), ('ill', 1292), ('fresh', 1293), ('angl', 1294), ('spoil', 1295), ('abus', 1296), ('likabl', 1297), ('discuss', 1298), ('hill', 1299), ('sight', 1300), ('ahead', 1301), ('sent', 1302), ('photograph', 1303), ('occur', 1304), ('shine', 1305), ('blame', 1306), ('logic', 1307), ('mainli', 1308), ('bruce', 1309), ('forev', 1310), ('skip', 1311), ('commerci', 1312), ('teacher', 1313), ('surround', 1314), ('segment', 1315), ('held', 1316), ('zero', 1317), ('blond', 1318), ('summer', 1319), ('resembl', 1320), ('satir', 1321), ('trap', 1322), ('fool', 1323), ('queen', 1324), ('six', 1325), ('ball', 1326), ('sub', 1327), ('tragedi', 1328), ('twice', 1329), ('pack', 1330), ('reaction', 1331), ('bomb', 1332), ('protagonist', 1333), ('hospit', 1334), ('will', 1335), ('mile', 1336), ('sport', 1337), ('mom', 1338), ('vote', 1339), ('jerri', 1340), ('trust', 1341), ('drink', 1342), ('encount', 1343), ('plane', 1344), ('current', 1345), ('program', 1346), ('station', 1347), ('al', 1348), ('celebr', 1349), ('martin', 1350), ('choos', 1351), ('join', 1352), ('field', 1353), ('tragic', 1354), ('favourit', 1355), ('lord', 1356), ('round', 1357), ('jean', 1358), ('vision', 1359), ('robot', 1360), ('arthur', 1361), ('tie', 1362), ('fortun', 1363), ('roger', 1364), ('random', 1365), ('psycholog', 1366), ('intern', 1367), ('dread', 1368), ('nonsens', 1369), ('improv', 1370), ('epic', 1371), ('prefer', 1372), ('formula', 1373), ('highlight', 1374), ('legend', 1375), ('pleasur', 1376), ('dollar', 1377), ('tape', 1378), ('11', 1379), ('object', 1380), ('fox', 1381), ('wide', 1382), ('gorgeou', 1383), ('thin', 1384), ('porn', 1385), ('buddi', 1386), ('ugli', 1387), ('influenc', 1388), ('nasti', 1389), ('prepar', 1390), ('ii', 1391), ('progress', 1392), ('reflect', 1393), ('supposedli', 1394), ('warm', 1395), ('worthi', 1396), ('youth', 1397), ('unusu', 1398), ('length', 1399), ('latter', 1400), ('crash', 1401), ('childhood', 1402), ('superior', 1403), ('seven', 1404), ('shop', 1405), ('remot', 1406), ('theatr', 1407), ('pilot', 1408), ('paid', 1409), ('funniest', 1410), ('disgust', 1411), ('convers', 1412), ('trick', 1413), ('fell', 1414), ('castl', 1415), ('gangster', 1416), ('establish', 1417), ('rob', 1418), ('disast', 1419), ('ident', 1420), ('suicid', 1421), ('heaven', 1422), ('mine', 1423), ('disappear', 1424), ('forgotten', 1425), ('tend', 1426), ('mask', 1427), ('decis', 1428), ('heroin', 1429), ('singer', 1430), ('brian', 1431), ('partner', 1432), ('desert', 1433), ('recogn', 1434), ('alan', 1435), ('sky', 1436), ('stuck', 1437), ('p', 1438), ('thoroughli', 1439), ('ms', 1440), ('replac', 1441), ('accur', 1442), ('market', 1443), ('commentari', 1444), ('eddi', 1445), ('uncl', 1446), ('andi', 1447), ('danni', 1448), ('clue', 1449), ('seemingli', 1450), ('jackson', 1451), ('devil', 1452), ('that', 1453), ('refus', 1454), ('pair', 1455), ('therefor', 1456), ('fate', 1457), ('unit', 1458), ('accid', 1459), ('ed', 1460), ('river', 1461), ('fault', 1462), ('afraid', 1463), ('tune', 1464), ('russian', 1465), ('clean', 1466), ('hidden', 1467), ('stephen', 1468), ('irrit', 1469), ('instanc', 1470), ('quick', 1471), ('test', 1472), ('convey', 1473), ('captain', 1474), ('readi', 1475), ('european', 1476), ('frustrat', 1477), ('daniel', 1478), ('insan', 1479), ('wed', 1480), ('chines', 1481), ('food', 1482), ('1950', 1483), ('rescu', 1484), ('angri', 1485), ('dirti', 1486), ('lock', 1487), ('joy', 1488), ('steven', 1489), ('price', 1490), ('bland', 1491), ('cage', 1492), ('rang', 1493), ('anymor', 1494), ('wooden', 1495), ('news', 1496), ('rush', 1497), ('n', 1498), ('jason', 1499), ('led', 1500), ('12', 1501), ('twenti', 1502), ('worri', 1503), ('board', 1504), ('martial', 1505), ('cgi', 1506), ('transform', 1507), ('symbol', 1508), ('hunter', 1509), ('sentiment', 1510), ('x', 1511), ('invent', 1512), ('onto', 1513), ('johnni', 1514), ('piti', 1515), ('explan', 1516), ('process', 1517), ('attitud', 1518), ('owner', 1519), ('awar', 1520), ('aim', 1521), ('favor', 1522), ('necessari', 1523), ('energi', 1524), ('target', 1525), ('floor', 1526), ('religi', 1527), ('opposit', 1528), ('window', 1529), ('insight', 1530), ('chick', 1531), ('blind', 1532), ('movement', 1533), ('research', 1534), ('mountain', 1535), ('comparison', 1536), ('deepli', 1537), ('possess', 1538), ('whatsoev', 1539), ('grand', 1540), ('rain', 1541), ('comed', 1542), ('shadow', 1543), ('began', 1544), ('mid', 1545), ('bank', 1546), ('parodi', 1547), ('princ', 1548), ('credibl', 1549), ('pre', 1550), ('friendship', 1551), ('taylor', 1552), ('weapon', 1553), ('teach', 1554), ('flesh', 1555), ('dougla', 1556), ('hint', 1557), ('protect', 1558), ('terror', 1559), ('bloodi', 1560), ('marvel', 1561), ('accord', 1562), ('drunk', 1563), ('watchabl', 1564), ('anybodi', 1565), ('load', 1566), ('leader', 1567), ('superman', 1568), ('freddi', 1569), ('brown', 1570), ('appropri', 1571), ('jeff', 1572), ('seat', 1573), ('tim', 1574), ('hitler', 1575), ('knock', 1576), ('unknown', 1577), ('villag', 1578), ('keaton', 1579), ('charg', 1580), ('unnecessari', 1581), ('media', 1582), ('empti', 1583), ('enemi', 1584), ('england', 1585), ('wave', 1586), ('strength', 1587), ('craft', 1588), ('utter', 1589), ('perspect', 1590), ('dare', 1591), ('buck', 1592), ('nativ', 1593), ('correct', 1594), ('contrast', 1595), ('kiss', 1596), ('ford', 1597), ('soap', 1598), ('speed', 1599), ('knowledg', 1600), ('magnific', 1601), ('distract', 1602), ('chill', 1603), ('nazi', 1604), ('anywher', 1605), ('breath', 1606), ('fred', 1607), ('mission', 1608), ('1980', 1609), ('ice', 1610), ('crowd', 1611), ('moon', 1612), ('jr', 1613), ('joan', 1614), ('kate', 1615), ('soft', 1616), ('frighten', 1617), ('000', 1618), ('dan', 1619), ('hundr', 1620), ('nick', 1621), ('dick', 1622), ('somebodi', 1623), ('radio', 1624), ('simon', 1625), ('dozen', 1626), ('andrew', 1627), ('loss', 1628), ('shakespear', 1629), ('thousand', 1630), ('academi', 1631), ('quot', 1632), ('root', 1633), ('account', 1634), ('vehicl', 1635), ('sum', 1636), ('leg', 1637), ('convent', 1638), ('1970', 1639), ('behavior', 1640), ('regular', 1641), ('gold', 1642), ('compet', 1643), ('demand', 1644), ('pretenti', 1645), ('worker', 1646), ('notabl', 1647), ('explos', 1648), ('stretch', 1649), ('lynch', 1650), ('interpret', 1651), ('japan', 1652), ('privat', 1653), ('candi', 1654), ('debut', 1655), ('constant', 1656), ('tarzan', 1657), ('revolv', 1658), ('spi', 1659), ('translat', 1660), ('sea', 1661), ('prais', 1662), ('jesu', 1663), ('failur', 1664), ('technolog', 1665), ('sat', 1666), ('ass', 1667), ('threaten', 1668), ('franc', 1669), ('quiet', 1670), ('aid', 1671), ('higher', 1672), ('punch', 1673), ('toy', 1674), ('met', 1675), ('kevin', 1676), ('mike', 1677), ('interact', 1678), ('vh', 1679), ('abandon', 1680), ('confront', 1681), ('separ', 1682), ('bet', 1683), ('command', 1684), ('gotten', 1685), ('site', 1686), ('recal', 1687), ('belong', 1688), ('techniqu', 1689), ('servic', 1690), ('stunt', 1691), ('freak', 1692), ('foot', 1693), ('bug', 1694), ('cabl', 1695), ('african', 1696), ('fu', 1697), ('jimmi', 1698), ('capabl', 1699), ('bright', 1700), ('stock', 1701), ('clark', 1702), ('boat', 1703), ('fat', 1704), ('presid', 1705), ('succeed', 1706), ('spanish', 1707), ('structur', 1708), ('gene', 1709), ('kidnap', 1710), ('paper', 1711), ('belief', 1712), ('whilst', 1713), ('factor', 1714), ('educ', 1715), ('complic', 1716), ('realis', 1717), ('tree', 1718), ('bob', 1719), ('realism', 1720), ('witti', 1721), ('attend', 1722), ('broken', 1723), ('assist', 1724), ('santa', 1725), ('finest', 1726), ('depart', 1727), ('smoke', 1728), ('determin', 1729), ('v', 1730), ('observ', 1731), ('up', 1732), ('fame', 1733), ('oper', 1734), ('domin', 1735), ('hat', 1736), ('routin', 1737), ('rubbish', 1738), ('lewi', 1739), ('lone', 1740), ('hook', 1741), ('kinda', 1742), ('advanc', 1743), ('safe', 1744), ('foreign', 1745), ('morgan', 1746), ('numer', 1747), ('rank', 1748), ('rose', 1749), ('shape', 1750), ('shallow', 1751), ('vs', 1752), ('civil', 1753), ('werewolf', 1754), ('washington', 1755), ('morn', 1756), ('gari', 1757), ('winner', 1758), ('accomplish', 1759), ('kong', 1760), ('ordinari', 1761), ('virtual', 1762), ('peac', 1763), ('grab', 1764), ('whenev', 1765), ('h', 1766), ('offens', 1767), ('luck', 1768), ('contriv', 1769), ('patient', 1770), ('bigger', 1771), ('welcom', 1772), ('activ', 1773), ('unfunni', 1774), ('complain', 1775), ('con', 1776), ('trek', 1777), ('pretend', 1778), ('dimension', 1779), ('cain', 1780), ('flash', 1781), ('wake', 1782), ('eric', 1783), ('dri', 1784), ('lesbian', 1785), ('code', 1786), ('guard', 1787), ('manipul', 1788), ('corrupt', 1789), ('statu', 1790), ('albert', 1791), ('dancer', 1792), ('awkward', 1793), ('signific', 1794), ('speech', 1795), ('gain', 1796), ('sourc', 1797), ('context', 1798), ('sean', 1799), ('clip', 1800), ('corni', 1801), ('anthoni', 1802), ('13', 1803), ('psycho', 1804), ('theatric', 1805), ('w', 1806), ('reli', 1807), ('advic', 1808), ('religion', 1809), ('priest', 1810), ('curiou', 1811), ('addict', 1812), ('flow', 1813), ('asian', 1814), ('howard', 1815), ('jennif', 1816), ('specif', 1817), ('secur', 1818), ('skin', 1819), ('organ', 1820), ('golden', 1821), ('comfort', 1822), ('core', 1823), ('promot', 1824), ('luke', 1825), ('cash', 1826), ('lucki', 1827), ('cheat', 1828), ('associ', 1829), ('lower', 1830), ('dislik', 1831), ('wing', 1832), ('degre', 1833), ('frequent', 1834), ('frankli', 1835), ('contribut', 1836), ('balanc', 1837), ('spell', 1838), ('regret', 1839), ('devic', 1840), ('sake', 1841), ('forgiv', 1842), ('print', 1843), ('lake', 1844), ('thoma', 1845), ('mass', 1846), ('betti', 1847), ('crack', 1848), ('gordon', 1849), ('unexpect', 1850), ('invit', 1851), ('amateur', 1852), ('categori', 1853), ('depend', 1854), ('grown', 1855), ('unfold', 1856), ('construct', 1857), ('intellectu', 1858), ('walter', 1859), ('condit', 1860), ('grew', 1861), ('anna', 1862), ('honor', 1863), ('matur', 1864), ('sole', 1865), ('sudden', 1866), ('mirror', 1867), ('spectacular', 1868), ('veteran', 1869), ('liner', 1870), ('card', 1871), ('experienc', 1872), ('demonstr', 1873), ('meanwhil', 1874), ('overli', 1875), ('robin', 1876), ('grip', 1877), ('gift', 1878), ('freedom', 1879), ('circumst', 1880), ('oliv', 1881), ('sheriff', 1882), ('colour', 1883), ('theori', 1884), ('crappi', 1885), ('subtitl', 1886), ('drew', 1887), ('section', 1888), ('unabl', 1889), ('brilliantli', 1890), ('sheer', 1891), ('pile', 1892), ('laughter', 1893), ('matt', 1894), ('path', 1895), ('altern', 1896), ('cook', 1897), ('parker', 1898), ('treatment', 1899), ('hall', 1900), ('accident', 1901), ('defin', 1902), ('relief', 1903), ('wander', 1904), ('sinatra', 1905), ('lawyer', 1906), ('captiv', 1907), ('dragon', 1908), ('hank', 1909), ('gratuit', 1910), ('moor', 1911), ('halloween', 1912), ('broadway', 1913), ('k', 1914), ('unintent', 1915), ('cowboy', 1916), ('kung', 1917), ('jacki', 1918), ('wayn', 1919), ('barbara', 1920), ('wound', 1921), ('spoof', 1922), ('statement', 1923), ('canadian', 1924), ('surreal', 1925), ('winter', 1926), ('fare', 1927), ('compos', 1928), ('cheer', 1929), ('treasur', 1930), ('fish', 1931), ('gonna', 1932), ('emerg', 1933), ('sensit', 1934), ('woodi', 1935), ('unrealist', 1936), ('victor', 1937), ('sympathet', 1938), ('ran', 1939), ('neighbor', 1940), ('driven', 1941), ('topic', 1942), ('expos', 1943), ('menac', 1944), ('overlook', 1945), ('glass', 1946), ('authent', 1947), ('chief', 1948), ('gross', 1949), ('ancient', 1950), ('handsom', 1951), ('michel', 1952), ('contemporari', 1953), ('stranger', 1954), ('built', 1955), ('comedian', 1956), ('network', 1957), ('nevertheless', 1958), ('pleasant', 1959), ('russel', 1960), ('cinderella', 1961), ('feet', 1962), ('endless', 1963), ('blockbust', 1964), ('underr', 1965), ('earn', 1966), ('letter', 1967), ('consider', 1968), ('gori', 1969), ('miser', 1970), ('solv', 1971), ('switch', 1972), ('brook', 1973), ('joseph', 1974), ('virgin', 1975), ('convict', 1976), ('edward', 1977), ('bullet', 1978), ('victoria', 1979), ('scenario', 1980), ('scale', 1981), ('alex', 1982), ('cynic', 1983), ('chosen', 1984), ('0', 1985), ('curs', 1986), ('gut', 1987), ('com', 1988), ('outrag', 1989), ('sword', 1990), ('substanc', 1991), ('monkey', 1992), ('proper', 1993), ('uk', 1994), ('juli', 1995), ('wrap', 1996), ('screenwrit', 1997), ('driver', 1998), ('court', 1999), ('indic', 2000), ('bird', 2001), ('remov', 2002), ('par', 2003), ('consequ', 2004), ('roy', 2005), ('rental', 2006), ('naiv', 2007), ('inevit', 2008), ('loser', 2009), ('nanci', 2010), ('grave', 2011), ('advertis', 2012), ('slap', 2013), ('germani', 2014), ('brave', 2015), ('invis', 2016), ('fatal', 2017), ('le', 2018), ('bridg', 2019), ('ador', 2020), ('loui', 2021), ('anger', 2022), ('provok', 2023), ('footbal', 2024), ('anderson', 2025), ('alcohol', 2026), ('chan', 2027), ('ryan', 2028), ('professor', 2029), ('stumbl', 2030), ('willi', 2031), ('sharp', 2032), ('assassin', 2033), ('patrick', 2034), ('australian', 2035), ('bat', 2036), ('1930', 2037), ('amateurish', 2038), ('eight', 2039), ('saturday', 2040), ('cell', 2041), ('heck', 2042), ('deni', 2043), ('refresh', 2044), ('ape', 2045), ('strongli', 2046), ('lousi', 2047), ('liber', 2048), ('trilog', 2049), ('sin', 2050), ('resid', 2051), ('vagu', 2052), ('justifi', 2053), ('san', 2054), ('creator', 2055), ('defeat', 2056), ('reput', 2057), ('mini', 2058), ('terrifi', 2059), ('indi', 2060), ('sympathi', 2061), ('endur', 2062), ('tabl', 2063), ('prevent', 2064), ('expert', 2065), ('task', 2066), ('tediou', 2067), ('rival', 2068), ('che', 2069), ('trial', 2070), ('basebal', 2071), ('employ', 2072), ('imit', 2073), ('offend', 2074), ('fairi', 2075), ('beach', 2076), ('max', 2077), ('pitch', 2078), ('weekend', 2079), ('complaint', 2080), ('dig', 2081), ('europ', 2082), ('murphi', 2083), ('risk', 2084), ('format', 2085), ('purchas', 2086), ('glimps', 2087), ('reminisc', 2088), ('harsh', 2089), ('nois', 2090), ('powel', 2091), ('bite', 2092), ('tini', 2093), ('hype', 2094), ('titan', 2095), ('fals', 2096), ('asleep', 2097), ('strip', 2098), ('14', 2099), ('north', 2100), ('till', 2101), ('prime', 2102), ('descript', 2103), ('texa', 2104), ('revel', 2105), ('africa', 2106), ('destruct', 2107), ('semi', 2108), ('surfac', 2109), ('arrest', 2110), ('uninterest', 2111), ('inner', 2112), ('excess', 2113), ('spin', 2114), ('sitcom', 2115), ('argu', 2116), ('massiv', 2117), ('makeup', 2118), ('maintain', 2119), ('controversi', 2120), ('dinosaur', 2121), ('twin', 2122), ('hitchcock', 2123), ('melodrama', 2124), ('expens', 2125), ('insist', 2126), ('ludicr', 2127), ('stare', 2128), ('reject', 2129), ('kim', 2130), ('ideal', 2131), ('nail', 2132), ('press', 2133), ('atroci', 2134), ('subplot', 2135), ('forest', 2136), ('ga', 2137), ('ala', 2138), ('host', 2139), ('erot', 2140), ('supernatur', 2141), ('columbo', 2142), ('identifi', 2143), ('dude', 2144), ('presum', 2145), ('cant', 2146), ('notch', 2147), ('crude', 2148), ('guest', 2149), ('plagu', 2150), ('method', 2151), ('closer', 2152), ('forgett', 2153), ('character', 2154), ('border', 2155), ('princess', 2156), ('ear', 2157), ('landscap', 2158), ('beast', 2159), ('lion', 2160), ('foster', 2161), ('accus', 2162), ('urban', 2163), ('aunt', 2164), ('storytel', 2165), ('jungl', 2166), ('birth', 2167), ('previous', 2168), ('bound', 2169), ('damag', 2170), ('pacino', 2171), ('thirti', 2172), ('chose', 2173), ('doll', 2174), ('guid', 2175), ('propaganda', 2176), ('nude', 2177), ('jess', 2178), ('emma', 2179), ('mainstream', 2180), ('warrior', 2181), ('pet', 2182), ('25', 2183), ('mate', 2184), ('whoever', 2185), ('size', 2186), ('poster', 2187), ('latest', 2188), ('exact', 2189), ('upset', 2190), ('merit', 2191), ('deadli', 2192), ('friday', 2193), ('cooper', 2194), ('gritti', 2195), ('corps', 2196), ('settl', 2197), ('rough', 2198), ('sun', 2199), ('contact', 2200), ('ton', 2201), ('popul', 2202), ('citizen', 2203), ('blend', 2204), ('wilson', 2205), ('warner', 2206), ('1990', 2207), ('contest', 2208), ('buff', 2209), ('alic', 2210), ('select', 2211), ('bu', 2212), ('pitt', 2213), ('widow', 2214), ('environ', 2215), ('overcom', 2216), ('metal', 2217), ('mgm', 2218), ('rat', 2219), ('revolut', 2220), ('guilti', 2221), ('lift', 2222), ('link', 2223), ('particip', 2224), ('ted', 2225), ('johnson', 2226), ('accompani', 2227), ('corner', 2228), ('corpor', 2229), ('moron', 2230), ('1960', 2231), ('afternoon', 2232), ('matrix', 2233), ('prostitut', 2234), ('exagger', 2235), ('leagu', 2236), ('sincer', 2237), ('hood', 2238), ('multipl', 2239), ('friendli', 2240), ('clair', 2241), ('instal', 2242), ('doom', 2243), ('holm', 2244), ('sunday', 2245), ('blah', 2246), ('string', 2247), ('irish', 2248), ('examin', 2249), ('advis', 2250), ('hip', 2251), ('grim', 2252), ('lugosi', 2253), ('aka', 2254), ('defend', 2255), ('junk', 2256), ('campi', 2257), ('pro', 2258), ('rachel', 2259), ('icon', 2260), ('confid', 2261), ('tight', 2262), ('shut', 2263), ('varieti', 2264), ('shake', 2265), ('medic', 2266), ('sullivan', 2267), ('attach', 2268), ('denni', 2269), ('directli', 2270), ('jaw', 2271), ('goal', 2272), ('mexican', 2273), ('sentenc', 2274), ('dean', 2275), ('terrorist', 2276), ('prior', 2277), ('legendari', 2278), ('vietnam', 2279), ('truck', 2280), ('sarah', 2281), ('courag', 2282), ('breast', 2283), ('duke', 2284), ('bourn', 2285), ('split', 2286), ('un', 2287), ('nose', 2288), ('hong', 2289), ('proceed', 2290), ('entri', 2291), ('donald', 2292), ('behav', 2293), ('yell', 2294), ('lifetim', 2295), ('gather', 2296), ('jerk', 2297), ('unconvinc', 2298), ('stolen', 2299), ('forth', 2300), ('buri', 2301), ('crush', 2302), ('confess', 2303), ('swim', 2304), ('concentr', 2305), ('everywher', 2306), ('borrow', 2307), ('california', 2308), ('pan', 2309), ('julia', 2310), ('deliveri', 2311), ('spite', 2312), ('turkey', 2313), ('lip', 2314), ('quest', 2315), ('reward', 2316), ('china', 2317), ('hoffman', 2318), ('offici', 2319), ('flight', 2320), ('downright', 2321), ('proud', 2322), ('freeman', 2323), ('lazi', 2324), ('sink', 2325), ('sir', 2326), ('jail', 2327), ('jon', 2328), ('fade', 2329), ('encourag', 2330), ('notori', 2331), ('worthwhil', 2332), ('fabul', 2333), ('inept', 2334), ('betray', 2335), ('retard', 2336), ('relev', 2337), ('shower', 2338), ('lisa', 2339), ('bell', 2340), ('imageri', 2341), ('survivor', 2342), ('branagh', 2343), ('teeth', 2344), ('bag', 2345), ('susan', 2346), ('cousin', 2347), ('storm', 2348), ('tremend', 2349), ('summari', 2350), ('alright', 2351), ('stab', 2352), ('trade', 2353), ('toler', 2354), ('bride', 2355), ('facial', 2356), ('hugh', 2357), ('mexico', 2358), ('shark', 2359), ('quirki', 2360), ('finger', 2361), ('blown', 2362), ('ha', 2363), ('von', 2364), ('bitter', 2365), ('hyster', 2366), ('pose', 2367), ('afterward', 2368), ('cruel', 2369), ('ned', 2370), ('scheme', 2371), ('ron', 2372), ('larri', 2373), ('bone', 2374), ('christ', 2375), ('address', 2376), ('feed', 2377), ('screw', 2378), ('distinct', 2379), ('thumb', 2380), ('tour', 2381), ('snake', 2382), ('swear', 2383), ('pursu', 2384), ('traci', 2385), ('beg', 2386), ('photo', 2387), ('mechan', 2388), ('chair', 2389), ('raw', 2390), ('occas', 2391), ('stomach', 2392), ('obscur', 2393), ('hardi', 2394), ('necessarili', 2395), ('render', 2396), ('resist', 2397), ('southern', 2398), ('heavili', 2399), ('argument', 2400), ('gruesom', 2401), ('chain', 2402), ('cabin', 2403), ('holiday', 2404), ('sidney', 2405), ('philip', 2406), ('india', 2407), ('indulg', 2408), ('satan', 2409), ('understood', 2410), ('racist', 2411), ('outfit', 2412), ('pregnant', 2413), ('belov', 2414), ('midnight', 2415), ('stalk', 2416), ('forgot', 2417), ('fourth', 2418), ('lay', 2419), ('tongu', 2420), ('obnoxi', 2421), ('integr', 2422), ('garden', 2423), ('magazin', 2424), ('slapstick', 2425), ('ticket', 2426), ('deeper', 2427), ('inhabit', 2428), ('17', 2429), ('restor', 2430), ('carol', 2431), ('lincoln', 2432), ('brad', 2433), ('devot', 2434), ('shoe', 2435), ('incid', 2436), ('elizabeth', 2437), ('disbelief', 2438), ('divorc', 2439), ('lili', 2440), ('anticip', 2441), ('maria', 2442), ('benefit', 2443), ('guarante', 2444), ('underground', 2445), ('sandler', 2446), ('princip', 2447), ('capit', 2448), ('mildli', 2449), ('slave', 2450), ('bbc', 2451), ('explod', 2452), ('cring', 2453), ('creation', 2454), ('greater', 2455), ('amazingli', 2456), ('funnier', 2457), ('halfway', 2458), ('lesli', 2459), ('introduct', 2460), ('extraordinari', 2461), ('punish', 2462), ('transfer', 2463), ('tap', 2464), ('wreck', 2465), ('enhanc', 2466), ('extent', 2467), ('text', 2468), ('overwhelm', 2469), ('advantag', 2470), ('east', 2471), ('lo', 2472), ('error', 2473), ('dynam', 2474), ('lane', 2475), ('deliber', 2476), ('jessica', 2477), ('horrif', 2478), ('plant', 2479), ('preview', 2480), ('basi', 2481), ('vacat', 2482), ('miller', 2483), ('ensu', 2484), ('2000', 2485), ('vincent', 2486), ('appli', 2487), ('miscast', 2488), ('sophist', 2489), ('homosexu', 2490), ('spoken', 2491), ('mansion', 2492), ('measur', 2493), ('elev', 2494), ('uncomfort', 2495), ('extend', 2496), ('via', 2497), ('steel', 2498), ('bollywood', 2499), ('reed', 2500), ('sleazi', 2501), ('conceiv', 2502), ('goofi', 2503), ('breathtak', 2504), ('hippi', 2505), ('beer', 2506), ('assign', 2507), ('mous', 2508), ('cathol', 2509), ('daili', 2510), ('alter', 2511), ('overact', 2512), ('dentist', 2513), ('stanley', 2514), ('blair', 2515), ('savag', 2516), ('fix', 2517), ('melt', 2518), ('subsequ', 2519), ('sacrific', 2520), ('everyday', 2521), ('burt', 2522), ('succe', 2523), ('properli', 2524), ('inspector', 2525), ('carpent', 2526), ('nowaday', 2527), ('oppos', 2528), ('laura', 2529), ('block', 2530), ('massacr', 2531), ('neck', 2532), ('circl', 2533), ('christi', 2534), ('fay', 2535), ('access', 2536), ('pool', 2537), ('lesser', 2538), ('mob', 2539), ('portrait', 2540), ('fallen', 2541), ('concert', 2542), ('seagal', 2543), ('grey', 2544), ('jewish', 2545), ('isol', 2546), ('react', 2547), ('relax', 2548), ('sinist', 2549), ('usa', 2550), ('jake', 2551), ('competit', 2552), ('chees', 2553), ('chop', 2554), ('appal', 2555), ('creep', 2556), ('stink', 2557), ('nonetheless', 2558), ('nine', 2559), ('2006', 2560), ('suitabl', 2561), ('ironi', 2562), ('lyric', 2563), ('spiritu', 2564), ('immens', 2565), ('spring', 2566), ('user', 2567), ('franchis', 2568), ('rage', 2569), ('showcas', 2570), ('reduc', 2571), ('navi', 2572), ('adopt', 2573), ('needless', 2574), ('retir', 2575), ('luci', 2576), ('shirt', 2577), ('sold', 2578), ('nut', 2579), ('uninspir', 2580), ('per', 2581), ('nurs', 2582), ('jay', 2583), ('bulli', 2584), ('zone', 2585), ('digit', 2586), ('bath', 2587), ('asham', 2588), ('stanwyck', 2589), ('2001', 2590), ('laid', 2591), ('broadcast', 2592), ('amongst', 2593), ('illustr', 2594), ('1940', 2595), ('oddli', 2596), ('upper', 2597), ('sutherland', 2598), ('aspir', 2599), ('disguis', 2600), ('throat', 2601), ('baker', 2602), ('stylish', 2603), ('brando', 2604), ('fulfil', 2605), ('endear', 2606), ('18', 2607), ('wwii', 2608), ('impli', 2609), ('wanna', 2610), ('nobl', 2611), ('thief', 2612), ('neighborhood', 2613), ('pride', 2614), ('em', 2615), ('pound', 2616), ('shoulder', 2617), ('diseas', 2618), ('16', 2619), ('distribut', 2620), ('cinematograph', 2621), ('shift', 2622), ('dawn', 2623), ('tens', 2624), ('dinner', 2625), ('bett', 2626), ('albeit', 2627), ('prop', 2628), ('coher', 2629), ('rochest', 2630), ('bo', 2631), ('silenc', 2632), ('rebel', 2633), ('matthau', 2634), ('knife', 2635), ('wash', 2636), ('forti', 2637), ('shout', 2638), ('function', 2639), ('poignant', 2640), ('snow', 2641), ('contract', 2642), ('surf', 2643), ('widmark', 2644), ('horrend', 2645), ('henc', 2646), ('height', 2647), ('proof', 2648), ('chuck', 2649), ('duti', 2650), ('derek', 2651), ('instinct', 2652), ('elvira', 2653), ('eeri', 2654), ('silver', 2655), ('cannib', 2656), ('reunion', 2657), ('heat', 2658), ('mindless', 2659), ('internet', 2660), ('cancel', 2661), ('spielberg', 2662), ('pie', 2663), ('alik', 2664), ('torn', 2665), ('greatli', 2666), ('etern', 2667), ('absorb', 2668), ('elvi', 2669), ('mill', 2670), ('incoher', 2671), ('repetit', 2672), ('musician', 2673), ('innov', 2674), ('neat', 2675), ('premier', 2676), ('glori', 2677), ('fbi', 2678), ('lovabl', 2679), ('nelson', 2680), ('crisi', 2681), ('bang', 2682), ('redempt', 2683), ('burton', 2684), ('infam', 2685), ('racism', 2686), ('britain', 2687), ('itali', 2688), ('wealthi', 2689), ('horrifi', 2690), ('trite', 2691), ('announc', 2692), ('blank', 2693), ('precis', 2694), ('diamond', 2695), ('homag', 2696), ('pat', 2697), ('chaplin', 2698), ('wilder', 2699), ('happili', 2700), ('dedic', 2701), ('helen', 2702), ('resolut', 2703), ('parallel', 2704), ('ensembl', 2705), ('streisand', 2706), ('hammer', 2707), ('flop', 2708), ('conclud', 2709), ('st', 2710), ('mar', 2711), ('oil', 2712), ('broke', 2713), ('factori', 2714), ('plastic', 2715), ('triumph', 2716), ('disagre', 2717), ('cube', 2718), ('carter', 2719), ('chuckl', 2720), ('rocket', 2721), ('climb', 2722), ('fighter', 2723), ('row', 2724), ('vega', 2725), ('weight', 2726), ('own', 2727), ('bush', 2728), ('march', 2729), ('sensibl', 2730), ('boot', 2731), ('meaning', 2732), ('wherea', 2733), ('thug', 2734), ('spare', 2735), ('dane', 2736), ('luca', 2737), ('enorm', 2738), ('lust', 2739), ('mst3k', 2740), ('kurt', 2741), ('unforgett', 2742), ('dump', 2743), ('brand', 2744), ('threat', 2745), ('engin', 2746), ('bobbi', 2747), ('stress', 2748), ('fifti', 2749), ('arnold', 2750), ('caricatur', 2751), ('dear', 2752), ('difficulti', 2753), ('butt', 2754), ('adequ', 2755), ('karloff', 2756), ('rap', 2757), ('polish', 2758), ('secretari', 2759), ('ralph', 2760), ('elabor', 2761), ('arrog', 2762), ('swing', 2763), ('hamlet', 2764), ('journalist', 2765), ('barri', 2766), ('fest', 2767), ('flynn', 2768), ('homeless', 2769), ('ego', 2770), ('arrang', 2771), ('float', 2772), ('conspiraci', 2773), ('fanci', 2774), ('unbear', 2775), ('resort', 2776), ('induc', 2777), ('spike', 2778), ('simpson', 2779), ('puppet', 2780), ('grate', 2781), ('tool', 2782), ('exercis', 2783), ('pig', 2784), ('guilt', 2785), ('phillip', 2786), ('boll', 2787), ('choreograph', 2788), ('muppet', 2789), ('cruis', 2790), ('tribut', 2791), ('basement', 2792), ('editor', 2793), ('ham', 2794), ('document', 2795), ('babe', 2796), ('korean', 2797), ('toilet', 2798), ('file', 2799), ('puzzl', 2800), ('slip', 2801), ('stan', 2802), ('item', 2803), ('layer', 2804), ('fianc', 2805), ('24', 2806), ('ward', 2807), ('scarecrow', 2808), ('medium', 2809), ('tower', 2810), ('orient', 2811), ('superfici', 2812), ('inexplic', 2813), ('philosoph', 2814), ('territori', 2815), ('librari', 2816), ('catherin', 2817), ('assur', 2818), ('glover', 2819), ('doc', 2820), ('denzel', 2821), ('persona', 2822), ('slaughter', 2823), ('larger', 2824), ('transit', 2825), ('minim', 2826), ('portion', 2827), ('spark', 2828), ('financi', 2829), ('curti', 2830), ('dorothi', 2831), ('owe', 2832), ('shi', 2833), ('wolf', 2834), ('sneak', 2835), ('walken', 2836), ('boredom', 2837), ('pg', 2838), ('ban', 2839), ('jeremi', 2840), ('jet', 2841), ('backdrop', 2842), ('ambigu', 2843), ('metaphor', 2844), ('multi', 2845), ('hudson', 2846), ('eleph', 2847), ('profound', 2848), ('whale', 2849), ('cusack', 2850), ('hack', 2851), ('stiff', 2852), ('notion', 2853), ('rave', 2854), ('union', 2855), ('viru', 2856), ('ultra', 2857), ('2005', 2858), ('implaus', 2859), ('gadget', 2860), ('birthday', 2861), ('elsewher', 2862), ('hawk', 2863), ('squar', 2864), ('poison', 2865), ('deriv', 2866), ('eastwood', 2867), ('1st', 2868), ('pad', 2869), ('canada', 2870), ('reader', 2871), ('disc', 2872), ('lloyd', 2873), ('urg', 2874), ('bibl', 2875), ('afford', 2876), ('slight', 2877), ('distanc', 2878), ('superhero', 2879), ('newspap', 2880), ('eva', 2881), ('huh', 2882), ('health', 2883), ('essenc', 2884), ('cure', 2885), ('drown', 2886), ('heston', 2887), ('montag', 2888), ('restaur', 2889), ('button', 2890), ('spread', 2891), ('skit', 2892), ('sadist', 2893), ('charisma', 2894), ('dealt', 2895), ('fetch', 2896), ('gradual', 2897), ('estat', 2898), ('muslim', 2899), ('peak', 2900), ('lab', 2901), ('godfath', 2902), ('invest', 2903), ('maniac', 2904), ('companion', 2905), ('scoobi', 2906), ('ritter', 2907), ('servant', 2908), ('subtleti', 2909), ('kane', 2910), ('alli', 2911), ('countless', 2912), ('gothic', 2913), ('cup', 2914), ('tea', 2915), ('miik', 2916), ('electr', 2917), ('charismat', 2918), ('heroic', 2919), ('briefli', 2920), ('elect', 2921), ('iii', 2922), ('salli', 2923), ('admittedli', 2924), ('bud', 2925), ('reel', 2926), ('neil', 2927), ('cole', 2928), ('resourc', 2929), ('ingredi', 2930), ('nuanc', 2931), ('grandmoth', 2932), ('tender', 2933), ('wannab', 2934), ('toss', 2935), ('kubrick', 2936), ('mafia', 2937), ('label', 2938), ('poverti', 2939), ('dawson', 2940), ('pauli', 2941), ('mild', 2942), ('stood', 2943), ('pit', 2944), ('stronger', 2945), ('carrey', 2946), ('gate', 2947), ('reev', 2948), ('shall', 2949), ('punk', 2950), ('smooth', 2951), ('burst', 2952), ('cox', 2953), ('assault', 2954), ('smash', 2955), ('ian', 2956), ('outcom', 2957), ('cardboard', 2958), ('terri', 2959), ('bakshi', 2960), ('updat', 2961), ('fond', 2962), ('tag', 2963), ('useless', 2964), ('easier', 2965), ('astair', 2966), ('fist', 2967), ('rex', 2968), ('qualifi', 2969), ('vari', 2970), ('melodramat', 2971), ('vulner', 2972), ('resolv', 2973), ('2002', 2974), ('increasingli', 2975), ('exchang', 2976), ('divers', 2977), ('sketch', 2978), ('samurai', 2979), ('coincid', 2980), ('insert', 2981), ('scratch', 2982), ('templ', 2983), ('blast', 2984), ('reynold', 2985), ('luckili', 2986), ('tame', 2987), ('suspend', 2988), ('be', 2989), ('conveni', 2990), ('brillianc', 2991), ('strictli', 2992), ('hamilton', 2993), ('walker', 2994), ('pin', 2995), ('coach', 2996), ('seventi', 2997), ('ambiti', 2998), ('nuclear', 2999), ('gotta', 3000), ('fisher', 3001), ('jami', 3002), ('meat', 3003), ('farm', 3004), ('matthew', 3005), ('soprano', 3006), ('empir', 3007), ('struck', 3008), ('brosnan', 3009), ('discoveri', 3010), ('cave', 3011), ('recreat', 3012), ('clock', 3013), ('ninja', 3014), ('convolut', 3015), ('closet', 3016), ('kudo', 3017), ('monk', 3018), ('revers', 3019), ('grasp', 3020), ('eccentr', 3021), ('timeless', 3022), ('spooki', 3023), ('butcher', 3024), ('instantli', 3025), ('worthless', 3026), ('joey', 3027), ('cliff', 3028), ('seller', 3029), ('fifteen', 3030), ('eighti', 3031), ('sloppi', 3032), ('miracl', 3033), ('bleak', 3034), ('wipe', 3035), ('importantli', 3036), ('communist', 3037), ('mitchel', 3038), ('evok', 3039), ('declar', 3040), ('clown', 3041), ('partli', 3042), ('gray', 3043), ('sidekick', 3044), ('norman', 3045), ('pal', 3046), ('inconsist', 3047), ('selfish', 3048), ('lifestyl', 3049), ('superbl', 3050), ('piano', 3051), ('farc', 3052), ('destin', 3053), ('seed', 3054), ('australia', 3055), ('psychiatrist', 3056), ('stoog', 3057), ('flawless', 3058), ('ho', 3059), ('chew', 3060), ('45', 3061), ('aforement', 3062), ('cheek', 3063), ('enthusiast', 3064), ('websit', 3065), ('debat', 3066), ('pressur', 3067), ('soviet', 3068), ('abc', 3069), ('emili', 3070), ('kitchen', 3071), ('incompet', 3072), ('bash', 3073), ('drivel', 3074), ('splatter', 3075), ('regardless', 3076), ('slice', 3077), ('directori', 3078), ('dire', 3079), ('anni', 3080), ('dash', 3081), ('wrestl', 3082), ('wick', 3083), ('akshay', 3084), ('distant', 3085), ('mann', 3086), ('increas', 3087), ('jar', 3088), ('helicopt', 3089), ('cameron', 3090), ('lou', 3091), ('dave', 3092), ('boil', 3093), ('duo', 3094), ('suppli', 3095), ('chapter', 3096), ('glow', 3097), ('recov', 3098), ('curios', 3099), ('ken', 3100), ('artifici', 3101), ('beaten', 3102), ('seduc', 3103), ('flower', 3104), ('doo', 3105), ('judi', 3106), ('cia', 3107), ('prize', 3108), ('cagney', 3109), ('blob', 3110), ('pleasantli', 3111), ('craven', 3112), ('craig', 3113), ('combat', 3114), ('goldberg', 3115), ('laurel', 3116), ('panic', 3117), ('favour', 3118), ('web', 3119), ('perri', 3120), ('psychot', 3121), ('glenn', 3122), ('francisco', 3123), ('hop', 3124), ('ranger', 3125), ('splendid', 3126), ('eleg', 3127), ('drunken', 3128), ('turner', 3129), ('ellen', 3130), ('flip', 3131), ('hatr', 3132), ('shortli', 3133), ('philosophi', 3134), ('gandhi', 3135), ('wizard', 3136), ('gentl', 3137), ('alexand', 3138), ('20th', 3139), ('slightest', 3140), ('rid', 3141), ('plausibl', 3142), ('graduat', 3143), ('ruth', 3144), ('fx', 3145), ('min', 3146), ('falk', 3147), ('greek', 3148), ('modesti', 3149), ('we', 3150), ('legal', 3151), ('jealou', 3152), ('harm', 3153), ('holi', 3154), ('futurist', 3155), ('felix', 3156), ('manhattan', 3157), ('ocean', 3158), ('knight', 3159), ('unpleas', 3160), ('fund', 3161), ('lend', 3162), ('dracula', 3163), ('preciou', 3164), ('tall', 3165), ('scientif', 3166), ('childish', 3167), ('explicit', 3168), ('digniti', 3169), ('reviv', 3170), ('thread', 3171), ('nod', 3172), ('overdon', 3173), ('mock', 3174), ('bless', 3175), ('giallo', 3176), ('forbidden', 3177), ('tank', 3178), ('ami', 3179), ('repeatedli', 3180), ('torment', 3181), ('awaken', 3182), ('elderli', 3183), ('yesterday', 3184), ('thick', 3185), ('eve', 3186), ('awe', 3187), ('99', 3188), ('fever', 3189), ('nerv', 3190), ('pirat', 3191), ('broad', 3192), ('2004', 3193), ('unwatch', 3194), ('verhoeven', 3195), ('margaret', 3196), ('mel', 3197), ('roman', 3198), ('absenc', 3199), ('ambit', 3200), ('timothi', 3201), ('automat', 3202), ('eas', 3203), ('acclaim', 3204), ('custom', 3205), ('politician', 3206), ('uniform', 3207), ('romero', 3208), ('ah', 3209), ('kay', 3210), ('launch', 3211), ('royal', 3212), ('lean', 3213), ('bin', 3214), ('rivet', 3215), ('griffith', 3216), ('stiller', 3217), ('publish', 3218), ('homicid', 3219), ('pulp', 3220), ('sunshin', 3221), ('foul', 3222), ('tomato', 3223), ('transport', 3224), ('gabriel', 3225), ('pierc', 3226), ('purpl', 3227), ('phrase', 3228), ('termin', 3229), ('crook', 3230), ('stinker', 3231), ('wallac', 3232), ('darker', 3233), ('antic', 3234), ('bathroom', 3235), ('warren', 3236), ('sixti', 3237), ('revolutionari', 3238), ('packag', 3239), ('horrid', 3240), ('kenneth', 3241), ('karen', 3242), ('coloni', 3243), ('2003', 3244), ('viciou', 3245), ('rambo', 3246), ('q', 3247), ('ought', 3248), ('juvenil', 3249), ('li', 3250), ('donna', 3251), ('brazil', 3252), ('choreographi', 3253), ('pray', 3254), ('prom', 3255), ('marin', 3256), ('saint', 3257), ('awak', 3258), ('hollow', 3259), ('album', 3260), ('eyr', 3261), ('contrari', 3262), ('evolv', 3263), ('nerd', 3264), ('kapoor', 3265), ('boast', 3266), ('candid', 3267), ('defi', 3268), ('beatti', 3269), ('blade', 3270), ('twelv', 3271), ('stole', 3272), ('overr', 3273), ('option', 3274), ('mildr', 3275), ('dose', 3276), ('ireland', 3277), ('conserv', 3278), ('mummi', 3279), ('ramon', 3280), ('trio', 3281), ('flame', 3282), ('detract', 3283), ('collabor', 3284), ('protest', 3285), ('astonish', 3286), ('funer', 3287), ('global', 3288), ('natali', 3289), ('confirm', 3290), ('jazz', 3291), ('kirk', 3292), ('fulci', 3293), ('altman', 3294), ('bull', 3295), ('spit', 3296), ('audio', 3297), ('bottl', 3298), ('racial', 3299), ('blake', 3300), ('leap', 3301), ('delici', 3302), ('whip', 3303), ('mystic', 3304), ('nicholson', 3305), ('shade', 3306), ('destini', 3307), ('yellow', 3308), ('enterpris', 3309), ('tommi', 3310), ('staff', 3311), ('threw', 3312), ('bedroom', 3313), ('meaningless', 3314), ('popcorn', 3315), ('visibl', 3316), ('reunit', 3317), ('pseudo', 3318), ('merci', 3319), ('vivid', 3320), ('altogeth', 3321), ('enchant', 3322), ('fonda', 3323), ('todd', 3324), ('neo', 3325), ('swedish', 3326), ('adolesc', 3327), ('inherit', 3328), ('harder', 3329), ('decor', 3330), ('await', 3331), ('uneven', 3332), ('bust', 3333), ('wire', 3334), ('lemmon', 3335), ('voight', 3336), ('leonard', 3337), ('fanat', 3338), ('moodi', 3339), ('synopsi', 3340), ('respond', 3341), ('kennedi', 3342), ('crocodil', 3343), ('tip', 3344), ('jew', 3345), ('exhibit', 3346), ('madonna', 3347), ('reserv', 3348), ('ruthless', 3349), ('edi', 3350), ('lawrenc', 3351), ('roommat', 3352), ('suspici', 3353), ('atlanti', 3354), ('befriend', 3355), ('clint', 3356), ('bargain', 3357), ('dimens', 3358), ('centr', 3359), ('chao', 3360), ('voyag', 3361), ('clumsi', 3362), ('rural', 3363), ('bold', 3364), ('2007', 3365), ('audit', 3366), ('garner', 3367), ('incident', 3368), ('ventur', 3369), ('abysm', 3370), ('holli', 3371), ('unsettl', 3372), ('palma', 3373), ('bradi', 3374), ('carl', 3375), ('cd', 3376), ('tiger', 3377), ('elimin', 3378), ('imperson', 3379), ('cuba', 3380), ('wealth', 3381), ('mall', 3382), ('lit', 3383), ('poetic', 3384), ('acknowledg', 3385), ('echo', 3386), ('hart', 3387), ('neglect', 3388), ('ant', 3389), ('nearbi', 3390), ('trail', 3391), ('cari', 3392), ('troop', 3393), ('2nd', 3394), ('daddi', 3395), ('humili', 3396), ('versu', 3397), ('immigr', 3398), ('characterist', 3399), ('timon', 3400), ('paus', 3401), ('infect', 3402), ('solo', 3403), ('domest', 3404), ('marshal', 3405), ('saga', 3406), ('repuls', 3407), ('jeffrey', 3408), ('mickey', 3409), ('pun', 3410), ('celluloid', 3411), ('prejudic', 3412), ('mistaken', 3413), ('collaps', 3414), ('homer', 3415), ('chest', 3416), ('sore', 3417), ('pant', 3418), ('promin', 3419), ('undoubtedli', 3420), ('ginger', 3421), ('inappropri', 3422), ('inan', 3423), ('harvey', 3424), ('equip', 3425), ('hbo', 3426), ('tribe', 3427), ('interrupt', 3428), ('coffe', 3429), ('apolog', 3430), ('assembl', 3431), ('gear', 3432), ('1996', 3433), ('cake', 3434), ('leon', 3435), ('milk', 3436), ('coat', 3437), ('olivi', 3438), ('consum', 3439), ('exot', 3440), ('devast', 3441), ('solut', 3442), ('furthermor', 3443), ('brooklyn', 3444), ('colonel', 3445), ('primari', 3446), ('vulgar', 3447), ('pen', 3448), ('retain', 3449), ('trace', 3450), ('colleagu', 3451), ('humbl', 3452), ('instant', 3453), ('airplan', 3454), ('institut', 3455), ('maggi', 3456), ('florida', 3457), ('embrac', 3458), ('highest', 3459), ('aveng', 3460), ('polanski', 3461), ('jenni', 3462), ('pot', 3463), ('wive', 3464), ('bowl', 3465), ('principl', 3466), ('gender', 3467), ('disabl', 3468), ('cope', 3469), ('3rd', 3470), ('dian', 3471), ('1999', 3472), ('ya', 3473), ('outer', 3474), ('strain', 3475), ('descend', 3476), ('linda', 3477), ('dutch', 3478), ('smaller', 3479), ('illog', 3480), ('rick', 3481), ('seduct', 3482), ('sale', 3483), ('poke', 3484), ('godzilla', 3485), ('primarili', 3486), ('hal', 3487), ('yard', 3488), ('scope', 3489), ('vast', 3490), ('dive', 3491), ('blatant', 3492), ('beneath', 3493), ('devoid', 3494), ('rabbit', 3495), ('dud', 3496), ('inferior', 3497), ('bubbl', 3498), ('cue', 3499), ('gloriou', 3500), ('predecessor', 3501), ('secondli', 3502), ('lol', 3503), ('glamor', 3504), ('mixtur', 3505), ('gundam', 3506), ('pearl', 3507), ('aggress', 3508), ('invas', 3509), ('arab', 3510), ('hideou', 3511), ('myer', 3512), ('shelf', 3513), ('trademark', 3514), ('shirley', 3515), ('senseless', 3516), ('april', 3517), ('alert', 3518), ('simplist', 3519), ('streep', 3520), ('z', 3521), ('casual', 3522), ('alfr', 3523), ('domino', 3524), ('countrysid', 3525), ('talki', 3526), ('et', 3527), ('breed', 3528), ('garbo', 3529), ('grinch', 3530), ('museum', 3531), ('disjoint', 3532), ('loyal', 3533), ('mayor', 3534), ('vanish', 3535), ('robberi', 3536), ('experiment', 3537), ('applaud', 3538), ('oz', 3539), ('robinson', 3540), ('unhappi', 3541), ('defens', 3542), ('obtain', 3543), ('sh', 3544), ('slide', 3545), ('boom', 3546), ('hardcor', 3547), ('stack', 3548), ('hopeless', 3549), ('maci', 3550), ('stellar', 3551), ('mail', 3552), ('khan', 3553), ('uwe', 3554), ('illeg', 3555), ('disgrac', 3556), ('rendit', 3557), ('acid', 3558), ('stir', 3559), ('dismiss', 3560), ('spider', 3561), ('psychic', 3562), ('berlin', 3563), ('blew', 3564), ('rifl', 3565), ('recruit', 3566), ('soccer', 3567), ('span', 3568), ('emphasi', 3569), ('tempt', 3570), ('incomprehens', 3571), ('counter', 3572), ('dicken', 3573), ('topless', 3574), ('craze', 3575), ('grandfath', 3576), ('declin', 3577), ('tenant', 3578), ('fri', 3579), ('wont', 3580), ('amanda', 3581), ('diana', 3582), ('scroog', 3583), ('hartley', 3584), ('sibl', 3585), ('bitch', 3586), ('riot', 3587), ('ration', 3588), ('wet', 3589), ('porno', 3590), ('revolt', 3591), ('sympath', 3592), ('trashi', 3593), ('resurrect', 3594), ('justin', 3595), ('intim', 3596), ('woo', 3597), ('goer', 3598), ('shed', 3599), ('faster', 3600), ('lumet', 3601), ('shaw', 3602), ('ethnic', 3603), ('niro', 3604), ('parad', 3605), ('partial', 3606), ('dealer', 3607), ('eager', 3608), ('commend', 3609), ('wheel', 3610), ('patriot', 3611), ('gap', 3612), ('weakest', 3613), ('feminist', 3614), ('wendi', 3615), ('unreal', 3616), ('honesti', 3617), ('nephew', 3618), ('steam', 3619), ('hesit', 3620), ('hopper', 3621), ('enlighten', 3622), ('immort', 3623), ('slick', 3624), ('lena', 3625), ('region', 3626), ('choru', 3627), ('ensur', 3628), ('ballet', 3629), ('jonathan', 3630), ('rider', 3631), ('farmer', 3632), ('andr', 3633), ('biographi', 3634), ('mario', 3635), ('worm', 3636), ('00', 3637), ('leo', 3638), ('kingdom', 3639), ('sappi', 3640), ('sandra', 3641), ('victori', 3642), ('morri', 3643), ('similarli', 3644), ('snap', 3645), ('psychopath', 3646), ('owen', 3647), ('properti', 3648), ('skull', 3649), ('prequel', 3650), ('hung', 3651), ('confin', 3652), ('wore', 3653), ('vice', 3654), ('repress', 3655), ('composit', 3656), ('blunt', 3657), ('charlott', 3658), ('nostalg', 3659), ('util', 3660), ('safeti', 3661), ('mutant', 3662), ('franco', 3663), ('macarthur', 3664), ('bonu', 3665), ('rocki', 3666), ('pattern', 3667), ('compens', 3668), ('del', 3669), ('miseri', 3670), ('compass', 3671), ('montana', 3672), ('bumbl', 3673), ('speci', 3674), ('dust', 3675), ('thru', 3676), ('repli', 3677), ('farrel', 3678), ('campbel', 3679), ('recycl', 3680), ('valuabl', 3681), ('deed', 3682), ('nervou', 3683), ('rope', 3684), ('tad', 3685), ('bow', 3686), ('cg', 3687), ('drum', 3688), ('exit', 3689), ('whoopi', 3690), ('latin', 3691), ('heartbreak', 3692), ('rambl', 3693), ('1972', 3694), ('acquir', 3695), ('emperor', 3696), ('strand', 3697), ('tail', 3698), ('snl', 3699), ('dalton', 3700), ('despair', 3701), ('kyle', 3702), ('hyde', 3703), ('drain', 3704), ('bergman', 3705), ('contempl', 3706), ('wacki', 3707), ('carradin', 3708), ('gal', 3709), ('bleed', 3710), ('slug', 3711), ('rotten', 3712), ('olli', 3713), ('percept', 3714), ('romp', 3715), ('pour', 3716), ('da', 3717), ('chess', 3718), ('mistress', 3719), ('rapist', 3720), ('35', 3721), ('oppress', 3722), ('downhil', 3723), ('tonight', 3724), ('orson', 3725), ('radic', 3726), ('gimmick', 3727), ('roth', 3728), ('airport', 3729), ('martian', 3730), ('preach', 3731), ('edgar', 3732), ('arc', 3733), ('pursuit', 3734), ('belt', 3735), ('banal', 3736), ('mislead', 3737), ('unpredict', 3738), ('pervers', 3739), ('arguabl', 3740), ('champion', 3741), ('taught', 3742), ('tooth', 3743), ('programm', 3744), ('tackl', 3745), ('shelley', 3746), ('paltrow', 3747), ('heal', 3748), ('stilt', 3749), ('melodi', 3750), ('slash', 3751), ('1983', 3752), ('dazzl', 3753), ('pervert', 3754), ('attorney', 3755), ('vocal', 3756), ('plight', 3757), ('marti', 3758), ('raymond', 3759), ('virginia', 3760), ('conneri', 3761), ('passeng', 3762), ('closest', 3763), ('poem', 3764), ('employe', 3765), ('gambl', 3766), ('rubi', 3767), ('bela', 3768), ('chicken', 3769), ('orang', 3770), ('maid', 3771), ('vengeanc', 3772), ('uplift', 3773), ('franki', 3774), ('graham', 3775), ('duval', 3776), ('tiresom', 3777), ('sensat', 3778), ('mesmer', 3779), ('cleverli', 3780), ('dixon', 3781), ('iran', 3782), ('inject', 3783), ('outing', 3784), ('convincingli', 3785), ('swallow', 3786), ('suffic', 3787), ('climact', 3788), ('calm', 3789), ('yawn', 3790), ('giggl', 3791), ('mute', 3792), ('crystal', 3793), ('bay', 3794), ('gerard', 3795), ('extens', 3796), ('habit', 3797), ('volum', 3798), ('sirk', 3799), ('monologu', 3800), ('numb', 3801), ('clone', 3802), ('secretli', 3803), ('quarter', 3804), ('whine', 3805), ('scottish', 3806), ('engross', 3807), ('profan', 3808), ('tube', 3809), ('1968', 3810), ('pokemon', 3811), ('lundgren', 3812), ('abraham', 3813), ('paranoia', 3814), ('amitabh', 3815), ('fed', 3816), ('chicago', 3817), ('frankenstein', 3818), ('richardson', 3819), ('dispos', 3820), ('profess', 3821), ('nichola', 3822), ('bend', 3823), ('expand', 3824), ('abort', 3825), ('meander', 3826), ('trend', 3827), ('poetri', 3828), ('franci', 3829), ('earl', 3830), ('backward', 3831), ('ethan', 3832), ('plod', 3833), ('grotesqu', 3834), ('lowest', 3835), ('linger', 3836), ('austen', 3837), ('surpass', 3838), ('im', 3839), ('underst', 3840), ('junior', 3841), ('spock', 3842), ('septemb', 3843), ('taxi', 3844), ('catchi', 3845), ('simplic', 3846), ('nostalgia', 3847), ('eugen', 3848), ('descent', 3849), ('rubber', 3850), ('der', 3851), ('instrument', 3852), ('household', 3853), ('stallon', 3854), ('literatur', 3855), ('greedi', 3856), ('cannon', 3857), ('dysfunct', 3858), ('tourist', 3859), ('sue', 3860), ('hum', 3861), ('mundan', 3862), ('lure', 3863), ('waitress', 3864), ('econom', 3865), ('myth', 3866), ('muddl', 3867), ('spoke', 3868), ('rant', 3869), ('compliment', 3870), ('phantom', 3871), ('sissi', 3872), ('map', 3873), ('insur', 3874), ('occupi', 3875), ('recognis', 3876), ('mankind', 3877), ('cent', 3878), ('mortal', 3879), ('omen', 3880), ('phoni', 3881), ('recognit', 3882), ('flee', 3883), ('lang', 3884), ('june', 3885), ('randi', 3886), ('damon', 3887), ('bacal', 3888), ('dement', 3889), ('furi', 3890), ('deaf', 3891), ('dictat', 3892), ('carel', 3893), ('eaten', 3894), ('hello', 3895), ('coast', 3896), ('stale', 3897), ('firstli', 3898), ('molli', 3899), ('crucial', 3900), ('irrelev', 3901), ('duck', 3902), ('louis', 3903), ('equival', 3904), ('alongsid', 3905), ('dreari', 3906), ('rude', 3907), ('daisi', 3908), ('ashley', 3909), ('onlin', 3910), ('reign', 3911), ('1973', 3912), ('blackmail', 3913), ('bump', 3914), ('bike', 3915), ('labor', 3916), ('rooney', 3917), ('heel', 3918), ('antwon', 3919), ('grayson', 3920), ('cyborg', 3921), ('buffalo', 3922), ('distinguish', 3923), ('freez', 3924), ('newli', 3925), ('twilight', 3926), ('wisdom', 3927), ('biko', 3928), ('lengthi', 3929), ('loyalti', 3930), ('likewis', 3931), ('damm', 3932), ('drake', 3933), ('analysi', 3934), ('approv', 3935), ('provoc', 3936), ('sailor', 3937), ('proce', 3938), ('basketbal', 3939), ('inher', 3940), ('nineti', 3941), ('interior', 3942), ('attribut', 3943), ('vein', 3944), ('butler', 3945), ('baddi', 3946), ('startl', 3947), ('boxer', 3948), ('keith', 3949), ('worn', 3950), ('exposur', 3951), ('barrymor', 3952), ('ridden', 3953), ('pink', 3954), ('emphas', 3955), ('tunnel', 3956), ('chronicl', 3957), ('unorigin', 3958), ('prey', 3959), ('incorpor', 3960), ('robbin', 3961), ('mighti', 3962), ('condemn', 3963), ('millionair', 3964), ('stalker', 3965), ('underli', 3966), ('degrad', 3967), ('meg', 3968), ('predat', 3969), ('fleet', 3970), ('substitut', 3971), ('nicol', 3972), ('hypnot', 3973), ('elm', 3974), ('meyer', 3975), ('bunni', 3976), ('simmon', 3977), ('undeni', 3978), ('indiffer', 3979), ('julian', 3980), ('walsh', 3981), ('unrel', 3982), ('improvis', 3983), ('barrel', 3984), ('mormon', 3985), ('carla', 3986), ('er', 3987), ('othello', 3988), ('belushi', 3989), ('drift', 3990), ('vital', 3991), ('edgi', 3992), ('roof', 3993), ('firm', 3994), ('warmth', 3995), ('dolph', 3996), ('alarm', 3997), ('mtv', 3998), ('agenda', 3999), ('palac', 4000), ('nyc', 4001), ('watson', 4002), ('greed', 4003), ('lampoon', 4004), ('shove', 4005), ('reid', 4006), ('errol', 4007), ('exquisit', 4008), ('marion', 4009), ('priceless', 4010), ('disord', 4011), ('hay', 4012), ('3d', 4013), ('unawar', 4014), ('enthusiasm', 4015), ('rukh', 4016), ('alison', 4017), ('novak', 4018), ('session', 4019), ('testament', 4020), ('championship', 4021), ('ponder', 4022), ('thompson', 4023), ('glanc', 4024), ('showdown', 4025), ('sergeant', 4026), ('iraq', 4027), ('distort', 4028), ('nun', 4029), ('simultan', 4030), ('gestur', 4031), ('1933', 4032), ('israel', 4033), ('campaign', 4034), ('preserv', 4035), ('randomli', 4036), ('minimum', 4037), ('13th', 4038), ('what', 4039), ('petti', 4040), ('crown', 4041), ('peril', 4042), ('pamela', 4043), ('peck', 4044), ('eastern', 4045), ('angela', 4046), ('spain', 4047), ('valentin', 4048), ('profit', 4049), ('beatl', 4050), ('drip', 4051), ('orlean', 4052), ('coup', 4053), ('unleash', 4054), ('cassidi', 4055), ('zizek', 4056), ('scotland', 4057), ('stroke', 4058), ('cooki', 4059), ('contradict', 4060), ('perpetu', 4061), ('brenda', 4062), ('regist', 4063), ('exposit', 4064), ('empathi', 4065), ('1984', 4066), ('wig', 4067), ('reson', 4068), ('kurosawa', 4069), ('shootout', 4070), ('crawl', 4071), ('climat', 4072), ('rout', 4073), ('bro', 4074), ('valley', 4075), ('calib', 4076), ('fido', 4077), ('quinn', 4078), ('unimagin', 4079), ('cream', 4080), ('miyazaki', 4081), ('restrain', 4082), ('travesti', 4083), ('represent', 4084), ('realm', 4085), ('stake', 4086), ('han', 4087), ('crow', 4088), ('din', 4089), ('buster', 4090), ('gentleman', 4091), ('jan', 4092), ('sabrina', 4093), ('mon', 4094), ('shaki', 4095), ('unseen', 4096), ('ustinov', 4097), ('absent', 4098), ('greg', 4099), ('soderbergh', 4100), ('stargat', 4101), ('monoton', 4102), ('delic', 4103), ('businessman', 4104), ('passabl', 4105), ('derang', 4106), ('baldwin', 4107), ('shoddi', 4108), ('wax', 4109), ('sammi', 4110), ('warrant', 4111), ('meryl', 4112), ('perceiv', 4113), ('painter', 4114), ('pretens', 4115), ('demis', 4116), ('cloud', 4117), ('censor', 4118), ('traumat', 4119), ('distress', 4120), ('tacki', 4121), ('femm', 4122), ('pole', 4123), ('spacey', 4124), ('ross', 4125), ('sucker', 4126), ('josh', 4127), ('mclaglen', 4128), ('1997', 4129), ('1987', 4130), ('unsatisfi', 4131), ('abomin', 4132), ('compromis', 4133), ('fuller', 4134), ('geek', 4135), ('darren', 4136), ('crawford', 4137), ('dana', 4138), ('wholli', 4139), ('norm', 4140), ('deniro', 4141), ('seal', 4142), ('expedit', 4143), ('uncov', 4144), ('fog', 4145), ('accuraci', 4146), ('clash', 4147), ('reluct', 4148), ('deceas', 4149), ('anchor', 4150), ('jewel', 4151), ('verbal', 4152), ('dee', 4153), ('polici', 4154), ('fenc', 4155), ('correctli', 4156), ('valid', 4157), ('exclus', 4158), ('unravel', 4159), ('nathan', 4160), ('austin', 4161), ('primit', 4162), ('tech', 4163), ('sid', 4164), ('tarantino', 4165), ('1993', 4166), ('judgment', 4167), ('kumar', 4168), ('furiou', 4169), ('click', 4170), ('antonioni', 4171), ('unfair', 4172), ('joel', 4173), ('hallucin', 4174), ('malon', 4175), ('behold', 4176), ('seldom', 4177), ('enforc', 4178), ('murray', 4179), ('conduct', 4180), ('alec', 4181), ('bake', 4182), ('sand', 4183), ('slam', 4184), ('patienc', 4185), ('sheet', 4186), ('sunni', 4187), ('sustain', 4188), ('trait', 4189), ('pocket', 4190), ('2008', 4191), ('fought', 4192), ('debt', 4193), ('temper', 4194), ('darn', 4195), ('mode', 4196), ('ritual', 4197), ('logan', 4198), ('nicola', 4199), ('fabric', 4200), ('wretch', 4201), ('tax', 4202), ('crippl', 4203), ('3000', 4204), ('dreck', 4205), ('clerk', 4206), ('shanghai', 4207), ('fart', 4208), ('vanc', 4209), ('roller', 4210), ('1995', 4211), ('1971', 4212), ('wang', 4213), ('pete', 4214), ('divid', 4215), ('fundament', 4216), ('grief', 4217), ('legaci', 4218), ('exhaust', 4219), ('bias', 4220), ('schedul', 4221), ('helpless', 4222), ('scriptwrit', 4223), ('technicolor', 4224), ('penni', 4225), ('conscious', 4226), ('critiqu', 4227), ('preston', 4228), ('outlin', 4229), ('stark', 4230), ('preposter', 4231), ('squad', 4232), ('stuart', 4233), ('robber', 4234), ('clau', 4235), ('bridget', 4236), ('runner', 4237), ('despis', 4238), ('tactic', 4239), ('isabel', 4240), ('shell', 4241), ('guitar', 4242), ('sweep', 4243), ('rita', 4244), ('phil', 4245), ('soup', 4246), ('canyon', 4247), ('vomit', 4248), ('flair', 4249), ('invad', 4250), ('jodi', 4251), ('rear', 4252), ('culmin', 4253), ('propos', 4254), ('restrict', 4255), ('connor', 4256), ('russia', 4257), ('marc', 4258), ('lacklust', 4259), ('alley', 4260), ('kansa', 4261), ('agenc', 4262), ('cigarett', 4263), ('liberti', 4264), ('sugar', 4265), ('palanc', 4266), ('newman', 4267), ('consciou', 4268), ('inabl', 4269), ('bloom', 4270), ('gregori', 4271), ('alicia', 4272), ('downey', 4273), ('passag', 4274), ('unexpectedli', 4275), ('implic', 4276), ('delv', 4277), ('drove', 4278), ('sentinel', 4279), ('boyl', 4280), ('rehash', 4281), ('jacket', 4282), ('sniper', 4283), ('horn', 4284), ('chainsaw', 4285), ('1936', 4286), ('vet', 4287), ('rehears', 4288), ('asylum', 4289), ('rampag', 4290), ('aesthet', 4291), ('cap', 4292), ('pale', 4293), ('delet', 4294), ('sharon', 4295), ('22', 4296), ('bacon', 4297), ('tripe', 4298), ('feat', 4299), ('lush', 4300), ('karl', 4301), ('rod', 4302), ('foxx', 4303), ('behaviour', 4304), ('improb', 4305), ('ladder', 4306), ('awhil', 4307), ('arrow', 4308), ('tendenc', 4309), ('mccoy', 4310), ('kolchak', 4311), ('yeti', 4312), ('wrench', 4313), ('wildli', 4314), ('paradis', 4315), ('financ', 4316), ('weav', 4317), ('conscienc', 4318), ('aristocrat', 4319), ('suspicion', 4320), ('paramount', 4321), ('el', 4322), ('1920', 4323), ('spice', 4324), ('visitor', 4325), ('1978', 4326), ('hungri', 4327), ('rumor', 4328), ('tasteless', 4329), ('underneath', 4330), ('filler', 4331), ('newcom', 4332), ('suffici', 4333), ('minu', 4334), ('scoop', 4335), ('fright', 4336), ('19th', 4337), ('lurk', 4338), ('stream', 4339), ('hulk', 4340), ('prank', 4341), ('loneli', 4342), ('sung', 4343), ('shortcom', 4344), ('tomorrow', 4345), ('hackney', 4346), ('rhythm', 4347), ('globe', 4348), ('amazon', 4349), ('1988', 4350), ('elit', 4351), ('wagner', 4352), ('coaster', 4353), ('thunderbird', 4354), ('basing', 4355), ('dirt', 4356), ('beverli', 4357), ('abrupt', 4358), ('straightforward', 4359), ('immers', 4360), ('1939', 4361), ('ingeni', 4362), ('naughti', 4363), ('75', 4364), ('teas', 4365), ('heist', 4366), ('impos', 4367), ('1989', 4368), ('secondari', 4369), ('iv', 4370), ('recogniz', 4371), ('inmat', 4372), ('hopkin', 4373), ('couch', 4374), ('curli', 4375), ('chamberlain', 4376), ('lectur', 4377), ('minist', 4378), ('worship', 4379), ('literari', 4380), ('standout', 4381), ('quietli', 4382), ('entranc', 4383), ('smell', 4384), ('en', 4385), ('cancer', 4386), ('penn', 4387), ('atroc', 4388), ('brit', 4389), ('grudg', 4390), ('choppi', 4391), ('springer', 4392), ('ram', 4393), ('paxton', 4394), ('leigh', 4395), ('chavez', 4396), ('bread', 4397), ('rub', 4398), ('posey', 4399), ('counterpart', 4400), ('tierney', 4401), ('wwe', 4402), ('entitl', 4403), ('ace', 4404), ('yearn', 4405), ('quaid', 4406), ('cattl', 4407), ('policeman', 4408), ('morbid', 4409), ('heartfelt', 4410), ('bernard', 4411), ('transcend', 4412), ('1986', 4413), ('duel', 4414), ('clan', 4415), ('variat', 4416), ('convert', 4417), ('geni', 4418), ('nolan', 4419), ('attenborough', 4420), ('sassi', 4421), ('net', 4422), ('misguid', 4423), ('watcher', 4424), ('laurenc', 4425), ('skeptic', 4426), ('missil', 4427), ('sublim', 4428), ('enthral', 4429), ('injuri', 4430), ('ratso', 4431), ('nemesi', 4432), ('lindsay', 4433), ('esther', 4434), ('moreov', 4435), ('rosemari', 4436), ('youngest', 4437), ('dont', 4438), ('facil', 4439), ('carlito', 4440), ('egg', 4441), ('1979', 4442), ('unexplain', 4443), ('uncut', 4444), ('brood', 4445), ('moder', 4446), ('out', 4447), ('kitti', 4448), ('graini', 4449), ('tyler', 4450), ('bye', 4451), ('setup', 4452), ('grin', 4453), ('reliabl', 4454), ('enabl', 4455), ('puppi', 4456), ('hk', 4457), ('buzz', 4458), ('diari', 4459), ('characteris', 4460), ('spiral', 4461), ('steadi', 4462), ('artsi', 4463), ('cruelti', 4464), ('obstacl', 4465), ('mytholog', 4466), ('poe', 4467), ('vader', 4468), ('kidman', 4469), ('bean', 4470), ('hopelessli', 4471), ('spontan', 4472), ('baffl', 4473), ('1969', 4474), ('bounc', 4475), ('effici', 4476), ('exterior', 4477), ('brendan', 4478), ('fuel', 4479), ('niec', 4480), ('hammi', 4481), ('narrow', 4482), ('acquaint', 4483), ('decept', 4484), ('patricia', 4485), ('underworld', 4486), ('gina', 4487), ('oblig', 4488), ('kline', 4489), ('martha', 4490), ('gillian', 4491), ('weather', 4492), ('bewar', 4493), ('preming', 4494), ('heap', 4495), ('bronson', 4496), ('hain', 4497), ('disastr', 4498), ('sweat', 4499), ('despic', 4500), ('christin', 4501), ('clueless', 4502), ('athlet', 4503), ('suprem', 4504), ('sooner', 4505), ('virtu', 4506), ('taboo', 4507), ('73', 4508), ('headach', 4509), ('goof', 4510), ('uh', 4511), ('19', 4512), ('tick', 4513), ('astound', 4514), ('dilemma', 4515), ('shatter', 4516), ('candl', 4517), ('scar', 4518), ('trigger', 4519), ('sleepwalk', 4520), ('rome', 4521), ('enlist', 4522), ('outlaw', 4523), ('loath', 4524), ('harmless', 4525), ('injur', 4526), ('mayhem', 4527), ('loi', 4528), ('dandi', 4529), ('circu', 4530), ('hepburn', 4531), ('preachi', 4532), ('insipid', 4533), ('viewpoint', 4534), ('housewif', 4535), ('angst', 4536), ('biker', 4537), ('analyz', 4538), ('fontain', 4539), ('lester', 4540), ('renaiss', 4541), ('mermaid', 4542), ('ebert', 4543), ('guin', 4544), ('hostag', 4545), ('slimi', 4546), ('camcord', 4547), ('ariel', 4548), ('fluff', 4549), ('zoom', 4550), ('contempt', 4551), ('whore', 4552), ('macho', 4553), ('claustrophob', 4554), ('overlong', 4555), ('scorses', 4556), ('salt', 4557), ('boston', 4558), ('sox', 4559), ('filth', 4560), ('glorifi', 4561), ('phenomenon', 4562), ('dish', 4563), ('foolish', 4564), ('amor', 4565), ('immatur', 4566), ('redund', 4567), ('stair', 4568), ('tripl', 4569), ('cassavet', 4570), ('hooker', 4571), ('dismal', 4572), ('hokey', 4573), ('steer', 4574), ('oldest', 4575), ('spade', 4576), ('stimul', 4577), ('surgeri', 4578), ('bent', 4579), ('idol', 4580), ('intric', 4581), ('corbett', 4582), ('gere', 4583), ('proport', 4584), ('1976', 4585), ('nolt', 4586), ('strongest', 4587), ('radiat', 4588), ('shield', 4589), ('astronaut', 4590), ('spree', 4591), ('flag', 4592), ('widescreen', 4593), ('mount', 4594), ('shred', 4595), ('cush', 4596), ('margin', 4597), ('faint', 4598), ('alvin', 4599), ('conquer', 4600), ('beard', 4601), ('gabl', 4602), ('flashi', 4603), ('flirt', 4604), ('keen', 4605), ('corman', 4606), ('harold', 4607), ('transplant', 4608), ('antagonist', 4609), ('down', 4610), ('messi', 4611), ('joker', 4612), ('1981', 4613), ('assert', 4614), ('fascist', 4615), ('dwarf', 4616), ('spinal', 4617), ('obligatori', 4618), ('naschi', 4619), ('remad', 4620), ('gasp', 4621), ('frantic', 4622), ('trivia', 4623), ('mutual', 4624), ('cow', 4625), ('muscl', 4626), ('schlock', 4627), ('perman', 4628), ('rhyme', 4629), ('zane', 4630), ('cohen', 4631), ('preced', 4632), ('off', 4633), ('info', 4634), ('discern', 4635), ('brush', 4636), ('neurot', 4637), ('danish', 4638), ('archiv', 4639), ('deer', 4640), ('1945', 4641), ('resum', 4642), ('95', 4643), ('claud', 4644), ('triangl', 4645), ('departur', 4646), ('repris', 4647), ('www', 4648), ('hara', 4649), ('sensual', 4650), ('strive', 4651), ('scandal', 4652), ('flock', 4653), ('fishburn', 4654), ('28', 4655), ('someday', 4656), ('instruct', 4657), ('inflict', 4658), ('vaniti', 4659), ('divin', 4660), ('persuad', 4661), ('wield', 4662), ('bachelor', 4663), ('barn', 4664), ('carey', 4665), ('bitten', 4666), ('aborigin', 4667), ('mobil', 4668), ('ritchi', 4669), ('interestingli', 4670), ('raj', 4671), ('mol', 4672), ('boob', 4673), ('biblic', 4674), ('helm', 4675), ('mobster', 4676), ('luka', 4677), ('harrison', 4678), ('senior', 4679), ('recit', 4680), ('europa', 4681), ('banter', 4682), ('prophet', 4683), ('fragil', 4684), ('artwork', 4685), ('miracul', 4686), ('carlo', 4687), ('pacif', 4688), ('earnest', 4689), ('frontier', 4690), ('traffic', 4691), ('hapless', 4692), ('ish', 4693), ('pickford', 4694), ('cher', 4695), ('axe', 4696), ('hilar', 4697), ('vibrant', 4698), ('dylan', 4699), ('submit', 4700), ('dim', 4701), ('casino', 4702), ('bate', 4703), ('dame', 4704), ('melissa', 4705), ('kathryn', 4706), ('wendigo', 4707), ('jade', 4708), ('rot', 4709), ('pixar', 4710), ('colin', 4711), ('anton', 4712), ('proclaim', 4713), ('timberlak', 4714), ('clad', 4715), ('cycl', 4716), ('undermin', 4717), ('hug', 4718), ('cb', 4719), ('cliffhang', 4720), ('parson', 4721), ('heartwarm', 4722), ('neill', 4723), ('loretta', 4724), ('articl', 4725), ('foil', 4726), ('sicken', 4727), ('vanessa', 4728), ('blatantli', 4729), ('venom', 4730), ('shepherd', 4731), ('illus', 4732), ('antholog', 4733), ('legitim', 4734), ('estrang', 4735), ('jo', 4736), ('seedi', 4737), ('pc', 4738), ('akin', 4739), ('orphan', 4740), ('http', 4741), ('razor', 4742), ('flavor', 4743), ('choke', 4744), ('uma', 4745), ('toronto', 4746), ('lui', 4747), ('holocaust', 4748), ('token', 4749), ('aris', 4750), ('cerebr', 4751), ('static', 4752), ('northern', 4753), ('feast', 4754), ('electron', 4755), ('eli', 4756), ('bikini', 4757), ('misfortun', 4758), ('nope', 4759), ('redneck', 4760), ('vile', 4761), ('breakfast', 4762), ('isra', 4763), ('marlon', 4764), ('rooki', 4765), ('wardrob', 4766), ('lucil', 4767), ('winchest', 4768), ('mason', 4769), ('jordan', 4770), ('milo', 4771), ('trier', 4772), ('bondag', 4773), ('mathieu', 4774), ('alexandr', 4775), ('fifth', 4776), ('abund', 4777), ('leather', 4778), ('dudley', 4779), ('highway', 4780), ('glare', 4781), ('disregard', 4782), ('swept', 4783), ('feminin', 4784), ('retriev', 4785), ('charlton', 4786), ('smack', 4787), ('outdat', 4788), ('nightclub', 4789), ('deem', 4790), ('oppon', 4791), ('clinic', 4792), ('boyer', 4793), ('magician', 4794), ('howl', 4795), ('peer', 4796), ('psych', 4797), ('cartoonish', 4798), ('comprehend', 4799), ('shorter', 4800), ('audrey', 4801), ('affleck', 4802), ('ceremoni', 4803), ('linear', 4804), ('tack', 4805), ('turd', 4806), ('frog', 4807), ('gilbert', 4808), ('knightley', 4809), ('gunga', 4810), ('styliz', 4811), ('wrestler', 4812), ('huston', 4813), ('ideolog', 4814), ('greet', 4815), ('salman', 4816), ('snatch', 4817), ('chip', 4818), ('evolut', 4819), ('bastard', 4820), ('boo', 4821), ('energet', 4822), ('deliver', 4823), ('phenomen', 4824), ('4th', 4825), ('toe', 4826), ('mitch', 4827), ('lighter', 4828), ('plate', 4829), ('conrad', 4830), ('potter', 4831), ('compris', 4832), ('spine', 4833), ('moe', 4834), ('uniformli', 4835), ('client', 4836), ('tara', 4837), ('sleaz', 4838), ('spawn', 4839), ('collector', 4840), ('bogu', 4841), ('cemeteri', 4842), ('monument', 4843), ('whack', 4844), ('1991', 4845), ('durat', 4846), ('newer', 4847), ('lavish', 4848), ('breakdown', 4849), ('btw', 4850), ('lifeless', 4851), ('cuban', 4852), ('goldsworthi', 4853), ('1994', 4854), ('senat', 4855), ('summar', 4856), ('braveheart', 4857), ('corn', 4858), ('einstein', 4859), ('historian', 4860), ('occup', 4861), ('1977', 4862), ('wtf', 4863), ('clara', 4864), ('fluid', 4865), ('nina', 4866), ('belli', 4867), ('outright', 4868), ('firmli', 4869), ('randolph', 4870), ('jule', 4871), ('bulk', 4872), ('cecil', 4873), ('spectacl', 4874), ('embark', 4875), ('pronounc', 4876), ('capot', 4877), ('sorrow', 4878), ('jam', 4879), ('ie', 4880), ('armstrong', 4881), ('jedi', 4882), ('trauma', 4883), ('bori', 4884), ('inaccuraci', 4885), ('replay', 4886), ('kazan', 4887), ('luxuri', 4888), ('undertak', 4889), ('eleven', 4890), ('kent', 4891), ('judd', 4892), ('gilliam', 4893), ('mcqueen', 4894), ('liu', 4895), ('appl', 4896), ('neatli', 4897), ('creek', 4898), ('signal', 4899), ('healthi', 4900), ('undead', 4901), ('constitut', 4902), ('1974', 4903), ('ol', 4904), ('alleg', 4905), ('jare', 4906), ('lex', 4907), ('evelyn', 4908), ('miniseri', 4909), ('miami', 4910), ('genet', 4911), ('pioneer', 4912), ('curtain', 4913), ('inaccur', 4914), ('roar', 4915), ('knee', 4916), ('blur', 4917), ('walt', 4918), ('basket', 4919), ('congratul', 4920), ('poker', 4921), ('lanc', 4922), ('porter', 4923), ('id', 4924), ('unsuspect', 4925), ('propheci', 4926), ('abound', 4927), ('inclus', 4928), ('relentless', 4929), ('palm', 4930), ('rosario', 4931), ('vignett', 4932), ('truman', 4933), ('vain', 4934), ('ash', 4935), ('sidewalk', 4936), ('lauren', 4937), ('pepper', 4938), ('comb', 4939), ('subtli', 4940), ('meal', 4941), ('decapit', 4942), ('carmen', 4943), ('bait', 4944), ('fruit', 4945), ('tokyo', 4946), ('spray', 4947), ('galaxi', 4948), ('paula', 4949), ('groan', 4950), ('1985', 4951), ('cape', 4952), ('aussi', 4953), ('forgiven', 4954), ('bsg', 4955), ('kiddi', 4956), ('conan', 4957), ('sacrif', 4958), ('antonio', 4959), ('comprehens', 4960), ('unattract', 4961), ('mum', 4962), ('goldblum', 4963), ('incorrect', 4964), ('profil', 4965), ('sparkl', 4966), ('playboy', 4967), ('motorcycl', 4968), ('spill', 4969), ('cypher', 4970), ('rapidli', 4971), ('growth', 4972), ('orchestr', 4973), ('scariest', 4974), ('ingrid', 4975), ('drone', 4976), ('macabr', 4977), ('weari', 4978), ('casper', 4979), ('vastli', 4980), ('ghetto', 4981), ('bravo', 4982), ('epitom', 4983), ('sophi', 4984), ('evan', 4985), ('jill', 4986), ('hackman', 4987), ('bach', 4988), ('assort', 4989), ('modest', 4990), ('weaker', 4991), ('mice', 4992), ('detach', 4993), ('masterson', 4994), ('asset', 4995), ('optimist', 4996), ('verg', 4997), ('scarfac', 4998), ('turtl', 4999)])"
      ]
     },
     "execution_count": 80,
     "metadata": {},
     "output_type": "execute_result"
    }
   ],
   "source": [
    "# TODO: Use this space to determine the five most frequently appearing words in the training set.\n",
    "word_dict.items()"
   ]
  },
  {
   "cell_type": "markdown",
   "metadata": {},
   "source": [
    "### Save `word_dict`\n",
    "\n",
    "Later on when we construct an endpoint which processes a submitted review we will need to make use of the `word_dict` which we have created. As such, we will save it to a file now for future use."
   ]
  },
  {
   "cell_type": "code",
   "execution_count": null,
   "metadata": {},
   "outputs": [],
   "source": [
    "data_dir = '../data/pytorch' # The folder we will use for storing data\n",
    "if not os.path.exists(data_dir): # Make sure that the folder exists\n",
    "    os.makedirs(data_dir)"
   ]
  },
  {
   "cell_type": "code",
   "execution_count": null,
   "metadata": {},
   "outputs": [],
   "source": [
    "with open(os.path.join(data_dir, 'word_dict.pkl'), \"wb\") as f:\n",
    "    pickle.dump(word_dict, f)"
   ]
  },
  {
   "cell_type": "markdown",
   "metadata": {},
   "source": [
    "### Transform the reviews\n",
    "\n",
    "Now that we have our word dictionary which allows us to transform the words appearing in the reviews into integers, it is time to make use of it and convert our reviews to their integer sequence representation, making sure to pad or truncate to a fixed length, which in our case is `500`."
   ]
  },
  {
   "cell_type": "code",
   "execution_count": null,
   "metadata": {},
   "outputs": [],
   "source": [
    "def convert_and_pad(word_dict, sentence, pad=500):\n",
    "    NOWORD = 0 # We will use 0 to represent the 'no word' category\n",
    "    INFREQ = 1 # and we use 1 to represent the infrequent words, i.e., words not appearing in word_dict\n",
    "    \n",
    "    working_sentence = [NOWORD] * pad\n",
    "    \n",
    "    for word_index, word in enumerate(sentence[:pad]):\n",
    "        if word in word_dict:\n",
    "            working_sentence[word_index] = word_dict[word]\n",
    "        else:\n",
    "            working_sentence[word_index] = INFREQ\n",
    "            \n",
    "    return working_sentence, min(len(sentence), pad)\n",
    "\n",
    "def convert_and_pad_data(word_dict, data, pad=500):\n",
    "    result = []\n",
    "    lengths = []\n",
    "    \n",
    "    for sentence in data:\n",
    "        converted, leng = convert_and_pad(word_dict, sentence, pad)\n",
    "        result.append(converted)\n",
    "        lengths.append(leng)\n",
    "        \n",
    "    return np.array(result), np.array(lengths)"
   ]
  },
  {
   "cell_type": "code",
   "execution_count": null,
   "metadata": {},
   "outputs": [],
   "source": [
    "train_X, train_X_len = convert_and_pad_data(word_dict, train_X)\n",
    "test_X, test_X_len = convert_and_pad_data(word_dict, test_X)"
   ]
  },
  {
   "cell_type": "markdown",
   "metadata": {},
   "source": [
    "As a quick check to make sure that things are working as intended, check to see what one of the reviews in the training set looks like after having been processeed. Does this look reasonable? What is the length of a review in the training set?"
   ]
  },
  {
   "cell_type": "code",
   "execution_count": null,
   "metadata": {},
   "outputs": [],
   "source": [
    "# Use this cell to examine one of the processed reviews to make sure everything is working as intended."
   ]
  },
  {
   "cell_type": "markdown",
   "metadata": {},
   "source": [
    "**Question:** In the cells above we use the `preprocess_data` and `convert_and_pad_data` methods to process both the training and testing set. Why or why not might this be a problem?"
   ]
  },
  {
   "cell_type": "markdown",
   "metadata": {},
   "source": [
    "**Answer:**"
   ]
  },
  {
   "cell_type": "markdown",
   "metadata": {},
   "source": [
    "## Step 3: Upload the data to S3\n",
    "\n",
    "As in the XGBoost notebook, we will need to upload the training dataset to S3 in order for our training code to access it. For now we will save it locally and we will upload to S3 later on.\n",
    "\n",
    "### Save the processed training dataset locally\n",
    "\n",
    "It is important to note the format of the data that we are saving as we will need to know it when we write the training code. In our case, each row of the dataset has the form `label`, `length`, `review[500]` where `review[500]` is a sequence of `500` integers representing the words in the review."
   ]
  },
  {
   "cell_type": "code",
   "execution_count": null,
   "metadata": {},
   "outputs": [],
   "source": [
    "import pandas as pd\n",
    "    \n",
    "pd.concat([pd.DataFrame(train_y), pd.DataFrame(train_X_len), pd.DataFrame(train_X)], axis=1) \\\n",
    "        .to_csv(os.path.join(data_dir, 'train.csv'), header=False, index=False)"
   ]
  },
  {
   "cell_type": "markdown",
   "metadata": {},
   "source": [
    "### Uploading the training data\n",
    "\n",
    "\n",
    "Next, we need to upload the training data to the SageMaker default S3 bucket so that we can provide access to it while training our model."
   ]
  },
  {
   "cell_type": "code",
   "execution_count": null,
   "metadata": {},
   "outputs": [],
   "source": [
    "import sagemaker\n",
    "\n",
    "sagemaker_session = sagemaker.Session()\n",
    "\n",
    "bucket = sagemaker_session.default_bucket()\n",
    "prefix = 'sagemaker/sentiment_rnn'\n",
    "\n",
    "role = sagemaker.get_execution_role()"
   ]
  },
  {
   "cell_type": "code",
   "execution_count": null,
   "metadata": {},
   "outputs": [],
   "source": [
    "input_data = sagemaker_session.upload_data(path=data_dir, bucket=bucket, key_prefix=prefix)"
   ]
  },
  {
   "cell_type": "markdown",
   "metadata": {},
   "source": [
    "**NOTE:** The cell above uploads the entire contents of our data directory. This includes the `word_dict.pkl` file. This is fortunate as we will need this later on when we create an endpoint that accepts an arbitrary review. For now, we will just take note of the fact that it resides in the data directory (and so also in the S3 training bucket) and that we will need to make sure it gets saved in the model directory."
   ]
  },
  {
   "cell_type": "markdown",
   "metadata": {},
   "source": [
    "## Step 4: Build and Train the PyTorch Model\n",
    "\n",
    "In the XGBoost notebook we discussed what a model is in the SageMaker framework. In particular, a model comprises three objects\n",
    "\n",
    " - Model Artifacts,\n",
    " - Training Code, and\n",
    " - Inference Code,\n",
    " \n",
    "each of which interact with one another. In the XGBoost example we used training and inference code that was provided by Amazon. Here we will still be using containers provided by Amazon with the added benefit of being able to include our own custom code.\n",
    "\n",
    "We will start by implementing our own neural network in PyTorch along with a training script. For the purposes of this project we have provided the necessary model object in the `model.py` file, inside of the `train` folder. You can see the provided implementation by running the cell below."
   ]
  },
  {
   "cell_type": "code",
   "execution_count": null,
   "metadata": {},
   "outputs": [],
   "source": [
    "!pygmentize train/model.py"
   ]
  },
  {
   "cell_type": "markdown",
   "metadata": {},
   "source": [
    "The important takeaway from the implementation provided is that there are three parameters that we may wish to tweak to improve the performance of our model. These are the embedding dimension, the hidden dimension and the size of the vocabulary. We will likely want to make these parameters configurable in the training script so that if we wish to modify them we do not need to modify the script itself. We will see how to do this later on. To start we will write some of the training code in the notebook so that we can more easily diagnose any issues that arise.\n",
    "\n",
    "First we will load a small portion of the training data set to use as a sample. It would be very time consuming to try and train the model completely in the notebook as we do not have access to a gpu and the compute instance that we are using is not particularly powerful. However, we can work on a small bit of the data to get a feel for how our training script is behaving."
   ]
  },
  {
   "cell_type": "code",
   "execution_count": null,
   "metadata": {},
   "outputs": [],
   "source": [
    "import torch\n",
    "import torch.utils.data\n",
    "\n",
    "# Read in only the first 250 rows\n",
    "train_sample = pd.read_csv(os.path.join(data_dir, 'train.csv'), header=None, names=None, nrows=250)\n",
    "\n",
    "# Turn the input pandas dataframe into tensors\n",
    "train_sample_y = torch.from_numpy(train_sample[[0]].values).float().squeeze()\n",
    "train_sample_X = torch.from_numpy(train_sample.drop([0], axis=1).values).long()\n",
    "\n",
    "# Build the dataset\n",
    "train_sample_ds = torch.utils.data.TensorDataset(train_sample_X, train_sample_y)\n",
    "# Build the dataloader\n",
    "train_sample_dl = torch.utils.data.DataLoader(train_sample_ds, batch_size=50)"
   ]
  },
  {
   "cell_type": "markdown",
   "metadata": {},
   "source": [
    "### (TODO) Writing the training method\n",
    "\n",
    "Next we need to write the training code itself. This should be very similar to training methods that you have written before to train PyTorch models. We will leave any difficult aspects such as model saving / loading and parameter loading until a little later."
   ]
  },
  {
   "cell_type": "code",
   "execution_count": null,
   "metadata": {},
   "outputs": [],
   "source": [
    "def train(model, train_loader, epochs, optimizer, loss_fn, device):\n",
    "    for epoch in range(1, epochs + 1):\n",
    "        model.train()\n",
    "        total_loss = 0\n",
    "        for batch in train_loader:         \n",
    "            batch_X, batch_y = batch\n",
    "            \n",
    "            batch_X = batch_X.to(device)\n",
    "            batch_y = batch_y.to(device)\n",
    "            \n",
    "            # TODO: Complete this train method to train the model provided.\n",
    "            \n",
    "            total_loss += loss.data.item()\n",
    "        print(\"Epoch: {}, BCELoss: {}\".format(epoch, total_loss / len(train_loader)))"
   ]
  },
  {
   "cell_type": "markdown",
   "metadata": {},
   "source": [
    "Supposing we have the training method above, we will test that it is working by writing a bit of code in the notebook that executes our training method on the small sample training set that we loaded earlier. The reason for doing this in the notebook is so that we have an opportunity to fix any errors that arise early when they are easier to diagnose."
   ]
  },
  {
   "cell_type": "code",
   "execution_count": null,
   "metadata": {},
   "outputs": [],
   "source": [
    "import torch.optim as optim\n",
    "from train.model import LSTMClassifier\n",
    "\n",
    "device = torch.device(\"cuda\" if torch.cuda.is_available() else \"cpu\")\n",
    "model = LSTMClassifier(32, 100, 5000).to(device)\n",
    "optimizer = optim.Adam(model.parameters())\n",
    "loss_fn = torch.nn.BCELoss()\n",
    "\n",
    "train(model, train_sample_dl, 5, optimizer, loss_fn, device)"
   ]
  },
  {
   "cell_type": "markdown",
   "metadata": {},
   "source": [
    "In order to construct a PyTorch model using SageMaker we must provide SageMaker with a training script. We may optionally include a directory which will be copied to the container and from which our training code will be run. When the training container is executed it will check the uploaded directory (if there is one) for a `requirements.txt` file and install any required Python libraries, after which the training script will be run."
   ]
  },
  {
   "cell_type": "markdown",
   "metadata": {},
   "source": [
    "### (TODO) Training the model\n",
    "\n",
    "When a PyTorch model is constructed in SageMaker, an entry point must be specified. This is the Python file which will be executed when the model is trained. Inside of the `train` directory is a file called `train.py` which has been provided and which contains most of the necessary code to train our model. The only thing that is missing is the implementation of the `train()` method which you wrote earlier in this notebook.\n",
    "\n",
    "**TODO**: Copy the `train()` method written above and paste it into the `train/train.py` file where required.\n",
    "\n",
    "The way that SageMaker passes hyperparameters to the training script is by way of arguments. These arguments can then be parsed and used in the training script. To see how this is done take a look at the provided `train/train.py` file."
   ]
  },
  {
   "cell_type": "code",
   "execution_count": null,
   "metadata": {},
   "outputs": [],
   "source": [
    "from sagemaker.pytorch import PyTorch\n",
    "\n",
    "estimator = PyTorch(entry_point=\"train.py\",\n",
    "                    source_dir=\"train\",\n",
    "                    role=role,\n",
    "                    framework_version='0.4.0',\n",
    "                    train_instance_count=1,\n",
    "                    train_instance_type='ml.p2.xlarge',\n",
    "                    hyperparameters={\n",
    "                        'epochs': 10,\n",
    "                        'hidden_dim': 200,\n",
    "                    })"
   ]
  },
  {
   "cell_type": "code",
   "execution_count": null,
   "metadata": {},
   "outputs": [],
   "source": [
    "estimator.fit({'training': input_data})"
   ]
  },
  {
   "cell_type": "markdown",
   "metadata": {},
   "source": [
    "## Step 5: Testing the model\n",
    "\n",
    "As mentioned at the top of this notebook, we will be testing this model by first deploying it and then sending the testing data to the deployed endpoint. We will do this so that we can make sure that the deployed model is working correctly.\n",
    "\n",
    "## Step 6: Deploy the model for testing\n",
    "\n",
    "Now that we have trained our model, we would like to test it to see how it performs. Currently our model takes input of the form `review_length, review[500]` where `review[500]` is a sequence of `500` integers which describe the words present in the review, encoded using `word_dict`. Fortunately for us, SageMaker provides built-in inference code for models with simple inputs such as this.\n",
    "\n",
    "There is one thing that we need to provide, however, and that is a function which loads the saved model. This function must be called `model_fn()` and takes as its only parameter a path to the directory where the model artifacts are stored. This function must also be present in the python file which we specified as the entry point. In our case the model loading function has been provided and so no changes need to be made.\n",
    "\n",
    "**NOTE**: When the built-in inference code is run it must import the `model_fn()` method from the `train.py` file. This is why the training code is wrapped in a main guard ( ie, `if __name__ == '__main__':` )\n",
    "\n",
    "Since we don't need to change anything in the code that was uploaded during training, we can simply deploy the current model as-is.\n",
    "\n",
    "**NOTE:** When deploying a model you are asking SageMaker to launch an compute instance that will wait for data to be sent to it. As a result, this compute instance will continue to run until *you* shut it down. This is important to know since the cost of a deployed endpoint depends on how long it has been running for.\n",
    "\n",
    "In other words **If you are no longer using a deployed endpoint, shut it down!**\n",
    "\n",
    "**TODO:** Deploy the trained model."
   ]
  },
  {
   "cell_type": "code",
   "execution_count": null,
   "metadata": {},
   "outputs": [],
   "source": [
    "# TODO: Deploy the trained model"
   ]
  },
  {
   "cell_type": "markdown",
   "metadata": {},
   "source": [
    "## Step 7 - Use the model for testing\n",
    "\n",
    "Once deployed, we can read in the test data and send it off to our deployed model to get some results. Once we collect all of the results we can determine how accurate our model is."
   ]
  },
  {
   "cell_type": "code",
   "execution_count": null,
   "metadata": {},
   "outputs": [],
   "source": [
    "test_X = pd.concat([pd.DataFrame(test_X_len), pd.DataFrame(test_X)], axis=1)"
   ]
  },
  {
   "cell_type": "code",
   "execution_count": null,
   "metadata": {},
   "outputs": [],
   "source": [
    "# We split the data into chunks and send each chunk seperately, accumulating the results.\n",
    "\n",
    "def predict(data, rows=512):\n",
    "    split_array = np.array_split(data, int(data.shape[0] / float(rows) + 1))\n",
    "    predictions = np.array([])\n",
    "    for array in split_array:\n",
    "        predictions = np.append(predictions, predictor.predict(array))\n",
    "    \n",
    "    return predictions"
   ]
  },
  {
   "cell_type": "code",
   "execution_count": null,
   "metadata": {},
   "outputs": [],
   "source": [
    "predictions = predict(test_X.values)\n",
    "predictions = [round(num) for num in predictions]"
   ]
  },
  {
   "cell_type": "code",
   "execution_count": null,
   "metadata": {},
   "outputs": [],
   "source": [
    "from sklearn.metrics import accuracy_score\n",
    "accuracy_score(test_y, predictions)"
   ]
  },
  {
   "cell_type": "markdown",
   "metadata": {},
   "source": [
    "**Question:** How does this model compare to the XGBoost model you created earlier? Why might these two models perform differently on this dataset? Which do *you* think is better for sentiment analysis?"
   ]
  },
  {
   "cell_type": "markdown",
   "metadata": {},
   "source": [
    "**Answer:**"
   ]
  },
  {
   "cell_type": "markdown",
   "metadata": {},
   "source": [
    "### (TODO) More testing\n",
    "\n",
    "We now have a trained model which has been deployed and which we can send processed reviews to and which returns the predicted sentiment. However, ultimately we would like to be able to send our model an unprocessed review. That is, we would like to send the review itself as a string. For example, suppose we wish to send the following review to our model."
   ]
  },
  {
   "cell_type": "code",
   "execution_count": null,
   "metadata": {},
   "outputs": [],
   "source": [
    "test_review = 'The simplest pleasures in life are the best, and this film is one of them. Combining a rather basic storyline of love and adventure this movie transcends the usual weekend fair with wit and unmitigated charm.'"
   ]
  },
  {
   "cell_type": "markdown",
   "metadata": {},
   "source": [
    "The question we now need to answer is, how do we send this review to our model?\n",
    "\n",
    "Recall in the first section of this notebook we did a bunch of data processing to the IMDb dataset. In particular, we did two specific things to the provided reviews.\n",
    " - Removed any html tags and stemmed the input\n",
    " - Encoded the review as a sequence of integers using `word_dict`\n",
    " \n",
    "In order process the review we will need to repeat these two steps.\n",
    "\n",
    "**TODO**: Using the `review_to_words` and `convert_and_pad` methods from section one, convert `test_review` into a numpy array `test_data` suitable to send to our model. Remember that our model expects input of the form `review_length, review[500]`."
   ]
  },
  {
   "cell_type": "code",
   "execution_count": null,
   "metadata": {},
   "outputs": [],
   "source": [
    "# TODO: Convert test_review into a form usable by the model and save the results in test_data\n",
    "test_data = None"
   ]
  },
  {
   "cell_type": "markdown",
   "metadata": {},
   "source": [
    "Now that we have processed the review, we can send the resulting array to our model to predict the sentiment of the review."
   ]
  },
  {
   "cell_type": "code",
   "execution_count": null,
   "metadata": {},
   "outputs": [],
   "source": [
    "predictor.predict(test_data)"
   ]
  },
  {
   "cell_type": "markdown",
   "metadata": {},
   "source": [
    "Since the return value of our model is close to `1`, we can be certain that the review we submitted is positive."
   ]
  },
  {
   "cell_type": "markdown",
   "metadata": {},
   "source": [
    "### Delete the endpoint\n",
    "\n",
    "Of course, just like in the XGBoost notebook, once we've deployed an endpoint it continues to run until we tell it to shut down. Since we are done using our endpoint for now, we can delete it."
   ]
  },
  {
   "cell_type": "code",
   "execution_count": null,
   "metadata": {},
   "outputs": [],
   "source": [
    "estimator.delete_endpoint()"
   ]
  },
  {
   "cell_type": "markdown",
   "metadata": {},
   "source": [
    "## Step 6 (again) - Deploy the model for the web app\n",
    "\n",
    "Now that we know that our model is working, it's time to create some custom inference code so that we can send the model a review which has not been processed and have it determine the sentiment of the review.\n",
    "\n",
    "As we saw above, by default the estimator which we created, when deployed, will use the entry script and directory which we provided when creating the model. However, since we now wish to accept a string as input and our model expects a processed review, we need to write some custom inference code.\n",
    "\n",
    "We will store the code that we write in the `serve` directory. Provided in this directory is the `model.py` file that we used to construct our model, a `utils.py` file which contains the `review_to_words` and `convert_and_pad` pre-processing functions which we used during the initial data processing, and `predict.py`, the file which will contain our custom inference code. Note also that `requirements.txt` is present which will tell SageMaker what Python libraries are required by our custom inference code.\n",
    "\n",
    "When deploying a PyTorch model in SageMaker, you are expected to provide four functions which the SageMaker inference container will use.\n",
    " - `model_fn`: This function is the same function that we used in the training script and it tells SageMaker how to load our model.\n",
    " - `input_fn`: This function receives the raw serialized input that has been sent to the model's endpoint and its job is to de-serialize and make the input available for the inference code.\n",
    " - `output_fn`: This function takes the output of the inference code and its job is to serialize this output and return it to the caller of the model's endpoint.\n",
    " - `predict_fn`: The heart of the inference script, this is where the actual prediction is done and is the function which you will need to complete.\n",
    "\n",
    "For the simple website that we are constructing during this project, the `input_fn` and `output_fn` methods are relatively straightforward. We only require being able to accept a string as input and we expect to return a single value as output. You might imagine though that in a more complex application the input or output may be image data or some other binary data which would require some effort to serialize.\n",
    "\n",
    "### (TODO) Writing inference code\n",
    "\n",
    "Before writing our custom inference code, we will begin by taking a look at the code which has been provided."
   ]
  },
  {
   "cell_type": "code",
   "execution_count": null,
   "metadata": {},
   "outputs": [],
   "source": [
    "!pygmentize serve/predict.py"
   ]
  },
  {
   "cell_type": "markdown",
   "metadata": {},
   "source": [
    "As mentioned earlier, the `model_fn` method is the same as the one provided in the training code and the `input_fn` and `output_fn` methods are very simple and your task will be to complete the `predict_fn` method. Make sure that you save the completed file as `predict.py` in the `serve` directory.\n",
    "\n",
    "**TODO**: Complete the `predict_fn()` method in the `serve/predict.py` file."
   ]
  },
  {
   "cell_type": "markdown",
   "metadata": {},
   "source": [
    "### Deploying the model\n",
    "\n",
    "Now that the custom inference code has been written, we will create and deploy our model. To begin with, we need to construct a new PyTorchModel object which points to the model artifacts created during training and also points to the inference code that we wish to use. Then we can call the deploy method to launch the deployment container.\n",
    "\n",
    "**NOTE**: The default behaviour for a deployed PyTorch model is to assume that any input passed to the predictor is a `numpy` array. In our case we want to send a string so we need to construct a simple wrapper around the `RealTimePredictor` class to accomodate simple strings. In a more complicated situation you may want to provide a serialization object, for example if you wanted to sent image data."
   ]
  },
  {
   "cell_type": "code",
   "execution_count": null,
   "metadata": {},
   "outputs": [],
   "source": [
    "from sagemaker.predictor import RealTimePredictor\n",
    "from sagemaker.pytorch import PyTorchModel\n",
    "\n",
    "class StringPredictor(RealTimePredictor):\n",
    "    def __init__(self, endpoint_name, sagemaker_session):\n",
    "        super(StringPredictor, self).__init__(endpoint_name, sagemaker_session, content_type='text/plain')\n",
    "\n",
    "model = PyTorchModel(model_data=estimator.model_data,\n",
    "                     role = role,\n",
    "                     framework_version='0.4.0',\n",
    "                     entry_point='predict.py',\n",
    "                     source_dir='serve',\n",
    "                     predictor_cls=StringPredictor)\n",
    "predictor = model.deploy(initial_instance_count=1, instance_type='ml.m4.xlarge')"
   ]
  },
  {
   "cell_type": "markdown",
   "metadata": {},
   "source": [
    "### Testing the model\n",
    "\n",
    "Now that we have deployed our model with the custom inference code, we should test to see if everything is working. Here we test our model by loading the first `250` positive and negative reviews and send them to the endpoint, then collect the results. The reason for only sending some of the data is that the amount of time it takes for our model to process the input and then perform inference is quite long and so testing the entire data set would be prohibitive."
   ]
  },
  {
   "cell_type": "code",
   "execution_count": null,
   "metadata": {},
   "outputs": [],
   "source": [
    "import glob\n",
    "\n",
    "def test_reviews(data_dir='../data/aclImdb', stop=250):\n",
    "    \n",
    "    results = []\n",
    "    ground = []\n",
    "    \n",
    "    # We make sure to test both positive and negative reviews    \n",
    "    for sentiment in ['pos', 'neg']:\n",
    "        \n",
    "        path = os.path.join(data_dir, 'test', sentiment, '*.txt')\n",
    "        files = glob.glob(path)\n",
    "        \n",
    "        files_read = 0\n",
    "        \n",
    "        print('Starting ', sentiment, ' files')\n",
    "        \n",
    "        # Iterate through the files and send them to the predictor\n",
    "        for f in files:\n",
    "            with open(f) as review:\n",
    "                # First, we store the ground truth (was the review positive or negative)\n",
    "                if sentiment == 'pos':\n",
    "                    ground.append(1)\n",
    "                else:\n",
    "                    ground.append(0)\n",
    "                # Read in the review and convert to 'utf-8' for transmission via HTTP\n",
    "                review_input = review.read().encode('utf-8')\n",
    "                # Send the review to the predictor and store the results\n",
    "                results.append(float(predictor.predict(review_input)))\n",
    "                \n",
    "            # Sending reviews to our endpoint one at a time takes a while so we\n",
    "            # only send a small number of reviews\n",
    "            files_read += 1\n",
    "            if files_read == stop:\n",
    "                break\n",
    "            \n",
    "    return ground, results"
   ]
  },
  {
   "cell_type": "code",
   "execution_count": null,
   "metadata": {},
   "outputs": [],
   "source": [
    "ground, results = test_reviews()"
   ]
  },
  {
   "cell_type": "code",
   "execution_count": null,
   "metadata": {},
   "outputs": [],
   "source": [
    "from sklearn.metrics import accuracy_score\n",
    "accuracy_score(ground, results)"
   ]
  },
  {
   "cell_type": "markdown",
   "metadata": {},
   "source": [
    "As an additional test, we can try sending the `test_review` that we looked at earlier."
   ]
  },
  {
   "cell_type": "code",
   "execution_count": null,
   "metadata": {},
   "outputs": [],
   "source": [
    "predictor.predict(test_review)"
   ]
  },
  {
   "cell_type": "markdown",
   "metadata": {},
   "source": [
    "Now that we know our endpoint is working as expected, we can set up the web page that will interact with it. If you don't have time to finish the project now, make sure to skip down to the end of this notebook and shut down your endpoint. You can deploy it again when you come back."
   ]
  },
  {
   "cell_type": "markdown",
   "metadata": {},
   "source": [
    "## Step 7 (again): Use the model for the web app\n",
    "\n",
    "> **TODO:** This entire section and the next contain tasks for you to complete, mostly using the AWS console.\n",
    "\n",
    "So far we have been accessing our model endpoint by constructing a predictor object which uses the endpoint and then just using the predictor object to perform inference. What if we wanted to create a web app which accessed our model? The way things are set up currently makes that not possible since in order to access a SageMaker endpoint the app would first have to authenticate with AWS using an IAM role which included access to SageMaker endpoints. However, there is an easier way! We just need to use some additional AWS services.\n",
    "\n",
    "<img src=\"Web App Diagram.svg\">\n",
    "\n",
    "The diagram above gives an overview of how the various services will work together. On the far right is the model which we trained above and which is deployed using SageMaker. On the far left is our web app that collects a user's movie review, sends it off and expects a positive or negative sentiment in return.\n",
    "\n",
    "In the middle is where some of the magic happens. We will construct a Lambda function, which you can think of as a straightforward Python function that can be executed whenever a specified event occurs. We will give this function permission to send and recieve data from a SageMaker endpoint.\n",
    "\n",
    "Lastly, the method we will use to execute the Lambda function is a new endpoint that we will create using API Gateway. This endpoint will be a url that listens for data to be sent to it. Once it gets some data it will pass that data on to the Lambda function and then return whatever the Lambda function returns. Essentially it will act as an interface that lets our web app communicate with the Lambda function.\n",
    "\n",
    "### Setting up a Lambda function\n",
    "\n",
    "The first thing we are going to do is set up a Lambda function. This Lambda function will be executed whenever our public API has data sent to it. When it is executed it will receive the data, perform any sort of processing that is required, send the data (the review) to the SageMaker endpoint we've created and then return the result.\n",
    "\n",
    "#### Part A: Create an IAM Role for the Lambda function\n",
    "\n",
    "Since we want the Lambda function to call a SageMaker endpoint, we need to make sure that it has permission to do so. To do this, we will construct a role that we can later give the Lambda function.\n",
    "\n",
    "Using the AWS Console, navigate to the **IAM** page and click on **Roles**. Then, click on **Create role**. Make sure that the **AWS service** is the type of trusted entity selected and choose **Lambda** as the service that will use this role, then click **Next: Permissions**.\n",
    "\n",
    "In the search box type `sagemaker` and select the check box next to the **AmazonSageMakerFullAccess** policy. Then, click on **Next: Review**.\n",
    "\n",
    "Lastly, give this role a name. Make sure you use a name that you will remember later on, for example `LambdaSageMakerRole`. Then, click on **Create role**.\n",
    "\n",
    "#### Part B: Create a Lambda function\n",
    "\n",
    "Now it is time to actually create the Lambda function.\n",
    "\n",
    "Using the AWS Console, navigate to the AWS Lambda page and click on **Create a function**. When you get to the next page, make sure that **Author from scratch** is selected. Now, name your Lambda function, using a name that you will remember later on, for example `sentiment_analysis_func`. Make sure that the **Python 3.6** runtime is selected and then choose the role that you created in the previous part. Then, click on **Create Function**.\n",
    "\n",
    "On the next page you will see some information about the Lambda function you've just created. If you scroll down you should see an editor in which you can write the code that will be executed when your Lambda function is triggered. In our example, we will use the code below. \n",
    "\n",
    "```python\n",
    "# We need to use the low-level library to interact with SageMaker since the SageMaker API\n",
    "# is not available natively through Lambda.\n",
    "import boto3\n",
    "\n",
    "def lambda_handler(event, context):\n",
    "\n",
    "    # The SageMaker runtime is what allows us to invoke the endpoint that we've created.\n",
    "    runtime = boto3.Session().client('sagemaker-runtime')\n",
    "\n",
    "    # Now we use the SageMaker runtime to invoke our endpoint, sending the review we were given\n",
    "    response = runtime.invoke_endpoint(EndpointName = '**ENDPOINT NAME HERE**',    # The name of the endpoint we created\n",
    "                                       ContentType = 'text/plain',                 # The data format that is expected\n",
    "                                       Body = event['body'])                       # The actual review\n",
    "\n",
    "    # The response is an HTTP response whose body contains the result of our inference\n",
    "    result = response['Body'].read().decode('utf-8')\n",
    "\n",
    "    return {\n",
    "        'statusCode' : 200,\n",
    "        'headers' : { 'Content-Type' : 'text/plain', 'Access-Control-Allow-Origin' : '*' },\n",
    "        'body' : result\n",
    "    }\n",
    "```\n",
    "\n",
    "Once you have copy and pasted the code above into the Lambda code editor, replace the `**ENDPOINT NAME HERE**` portion with the name of the endpoint that we deployed earlier. You can determine the name of the endpoint using the code cell below."
   ]
  },
  {
   "cell_type": "code",
   "execution_count": null,
   "metadata": {},
   "outputs": [],
   "source": [
    "predictor.endpoint"
   ]
  },
  {
   "cell_type": "markdown",
   "metadata": {},
   "source": [
    "Once you have added the endpoint name to the Lambda function, click on **Save**. Your Lambda function is now up and running. Next we need to create a way for our web app to execute the Lambda function.\n",
    "\n",
    "### Setting up API Gateway\n",
    "\n",
    "Now that our Lambda function is set up, it is time to create a new API using API Gateway that will trigger the Lambda function we have just created.\n",
    "\n",
    "Using AWS Console, navigate to **Amazon API Gateway** and then click on **Get started**.\n",
    "\n",
    "On the next page, make sure that **New API** is selected and give the new api a name, for example, `sentiment_analysis_api`. Then, click on **Create API**.\n",
    "\n",
    "Now we have created an API, however it doesn't currently do anything. What we want it to do is to trigger the Lambda function that we created earlier.\n",
    "\n",
    "Select the **Actions** dropdown menu and click **Create Method**. A new blank method will be created, select its dropdown menu and select **POST**, then click on the check mark beside it.\n",
    "\n",
    "For the integration point, make sure that **Lambda Function** is selected and click on the **Use Lambda Proxy integration**. This option makes sure that the data that is sent to the API is then sent directly to the Lambda function with no processing. It also means that the return value must be a proper response object as it will also not be processed by API Gateway.\n",
    "\n",
    "Type the name of the Lambda function you created earlier into the **Lambda Function** text entry box and then click on **Save**. Click on **OK** in the pop-up box that then appears, giving permission to API Gateway to invoke the Lambda function you created.\n",
    "\n",
    "The last step in creating the API Gateway is to select the **Actions** dropdown and click on **Deploy API**. You will need to create a new Deployment stage and name it anything you like, for example `prod`.\n",
    "\n",
    "You have now successfully set up a public API to access your SageMaker model. Make sure to copy or write down the URL provided to invoke your newly created public API as this will be needed in the next step. This URL can be found at the top of the page, highlighted in blue next to the text **Invoke URL**."
   ]
  },
  {
   "cell_type": "markdown",
   "metadata": {},
   "source": [
    "## Step 4: Deploying our web app\n",
    "\n",
    "Now that we have a publicly available API, we can start using it in a web app. For our purposes, we have provided a simple static html file which can make use of the public api you created earlier.\n",
    "\n",
    "In the `website` folder there should be a file called `index.html`. Download the file to your computer and open that file up in a text editor of your choice. There should be a line which contains **\\*\\*REPLACE WITH PUBLIC API URL\\*\\***. Replace this string with the url that you wrote down in the last step and then save the file.\n",
    "\n",
    "Now, if you open `index.html` on your local computer, your browser will behave as a local web server and you can use the provided site to interact with your SageMaker model.\n",
    "\n",
    "If you'd like to go further, you can host this html file anywhere you'd like, for example using github or hosting a static site on Amazon's S3. Once you have done this you can share the link with anyone you'd like and have them play with it too!\n",
    "\n",
    "> **Important Note** In order for the web app to communicate with the SageMaker endpoint, the endpoint has to actually be deployed and running. This means that you are paying for it. Make sure that the endpoint is running when you want to use the web app but that you shut it down when you don't need it, otherwise you will end up with a surprisingly large AWS bill.\n",
    "\n",
    "**TODO:** Make sure that you include the edited `index.html` file in your project submission."
   ]
  },
  {
   "cell_type": "markdown",
   "metadata": {},
   "source": [
    "Now that your web app is working, trying playing around with it and see how well it works.\n",
    "\n",
    "**Question**: Give an example of a review that you entered into your web app. What was the predicted sentiment of your example review?"
   ]
  },
  {
   "cell_type": "markdown",
   "metadata": {},
   "source": [
    "**Answer:**"
   ]
  },
  {
   "cell_type": "markdown",
   "metadata": {},
   "source": [
    "### Delete the endpoint\n",
    "\n",
    "Remember to always shut down your endpoint if you are no longer using it. You are charged for the length of time that the endpoint is running so if you forget and leave it on you could end up with an unexpectedly large bill."
   ]
  },
  {
   "cell_type": "code",
   "execution_count": null,
   "metadata": {},
   "outputs": [],
   "source": [
    "predictor.delete_endpoint()"
   ]
  },
  {
   "cell_type": "code",
   "execution_count": null,
   "metadata": {},
   "outputs": [],
   "source": []
  }
 ],
 "metadata": {
  "kernelspec": {
   "display_name": "conda_pytorch_p36",
   "language": "python",
   "name": "conda_pytorch_p36"
  },
  "language_info": {
   "codemirror_mode": {
    "name": "ipython",
    "version": 3
   },
   "file_extension": ".py",
   "mimetype": "text/x-python",
   "name": "python",
   "nbconvert_exporter": "python",
   "pygments_lexer": "ipython3",
   "version": "3.6.13"
  }
 },
 "nbformat": 4,
 "nbformat_minor": 4
}
